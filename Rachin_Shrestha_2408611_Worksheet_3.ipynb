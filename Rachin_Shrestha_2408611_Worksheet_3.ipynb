{
  "nbformat": 4,
  "nbformat_minor": 0,
  "metadata": {
    "colab": {
      "provenance": []
    },
    "kernelspec": {
      "name": "python3",
      "display_name": "Python 3"
    },
    "language_info": {
      "name": "python"
    }
  },
  "cells": [
    {
      "cell_type": "markdown",
      "source": [
        "**1. Sorting and Subsetting:**\n",
        "\n",
        "Complete all following Task:\n",
        "\n",
        "• Dataset for the Task: \"titanic.csv\"\n",
        "\n",
        "Following task is common for all the problem:\n",
        "1. Load the provided dataset and import in pandas DataFrame.\n",
        "2. Check info of the DataFrame and identify following:"
      ],
      "metadata": {
        "id": "0QxDeDPnk-TZ"
      }
    },
    {
      "cell_type": "code",
      "execution_count": null,
      "metadata": {
        "colab": {
          "base_uri": "https://localhost:8080/"
        },
        "id": "ESF-jsHCjyy5",
        "outputId": "3cd1db57-3c6c-481d-ebd4-3ba724f3bb20"
      },
      "outputs": [
        {
          "output_type": "stream",
          "name": "stdout",
          "text": [
            "      Name  Age  Score\n",
            "0    Alice   24     88\n",
            "1      Bob   19     92\n",
            "2  Charlie   22     85\n",
            "3    David   25     95\n",
            "      Name  Age  Score\n",
            "1      Bob   19     92\n",
            "2  Charlie   22     85\n",
            "0    Alice   24     88\n",
            "3    David   25     95\n",
            "      Name  Age  Score\n",
            "0    Alice   24     88\n",
            "1      Bob   19     92\n",
            "2  Charlie   22     85\n",
            "3    David   25     95\n"
          ]
        }
      ],
      "source": [
        "import pandas as pd\n",
        "# Creating a sample DataFrame\n",
        "data = {\"Name\": [\"Alice\", \"Bob\", \"Charlie\", \"David\"],\n",
        "\"Age\": [24, 19, 22, 25],\n",
        "\"Score\": [88, 92, 85, 95]}\n",
        "df = pd.DataFrame(data)\n",
        "print(df.head())\n",
        "# Example 1: Sort by ’Age’ using sort_values()\n",
        "sorted_by_age = df.sort_values(by=\"Age\")\n",
        "print(sorted_by_age.head())\n",
        "# Example 2: Sort by index using sort_index()\n",
        "sorted_by_index = df.sort_index()\n",
        "print(sorted_by_index.head())"
      ]
    },
    {
      "cell_type": "markdown",
      "source": [
        "# Problem 1 - Sorting:"
      ],
      "metadata": {
        "id": "RR_LDVL4FZ63"
      }
    },
    {
      "cell_type": "code",
      "source": [
        "import pandas as pd\n",
        "\n",
        "titanic_info = pd.read_csv('/content/drive/MyDrive/Concepts of AI Colab/W2 Datasets/Titanic-Dataset.csv')\n",
        "df_titanic = pd.DataFrame(titanic_info)\n",
        "df_titanic.info()"
      ],
      "metadata": {
        "colab": {
          "base_uri": "https://localhost:8080/"
        },
        "id": "b0vX_8PDOtC5",
        "outputId": "0308bf38-bd06-4a28-fe0c-8e290976d608"
      },
      "execution_count": 46,
      "outputs": [
        {
          "output_type": "stream",
          "name": "stdout",
          "text": [
            "<class 'pandas.core.frame.DataFrame'>\n",
            "RangeIndex: 891 entries, 0 to 890\n",
            "Data columns (total 12 columns):\n",
            " #   Column       Non-Null Count  Dtype  \n",
            "---  ------       --------------  -----  \n",
            " 0   PassengerId  891 non-null    int64  \n",
            " 1   Survived     891 non-null    int64  \n",
            " 2   Pclass       891 non-null    int64  \n",
            " 3   Name         891 non-null    object \n",
            " 4   Sex          891 non-null    object \n",
            " 5   Age          714 non-null    float64\n",
            " 6   SibSp        891 non-null    int64  \n",
            " 7   Parch        891 non-null    int64  \n",
            " 8   Ticket       891 non-null    object \n",
            " 9   Fare         891 non-null    float64\n",
            " 10  Cabin        204 non-null    object \n",
            " 11  Embarked     889 non-null    object \n",
            "dtypes: float64(2), int64(5), object(5)\n",
            "memory usage: 83.7+ KB\n"
          ]
        }
      ]
    },
    {
      "cell_type": "markdown",
      "source": [
        "1. Create a DataFrame called fare that contains only the Fare column of the Titanic dataset. Print the\n",
        "head of the result."
      ],
      "metadata": {
        "id": "51MssMz9FYXC"
      }
    },
    {
      "cell_type": "code",
      "source": [
        "fare = df_titanic['Fare']\n",
        "print(fare.head())"
      ],
      "metadata": {
        "colab": {
          "base_uri": "https://localhost:8080/"
        },
        "id": "cQSAwxVjERWI",
        "outputId": "c48eb8d5-91b5-475a-d872-8a78bc895d42"
      },
      "execution_count": 47,
      "outputs": [
        {
          "output_type": "stream",
          "name": "stdout",
          "text": [
            "0     7.2500\n",
            "1    71.2833\n",
            "2     7.9250\n",
            "3    53.1000\n",
            "4     8.0500\n",
            "Name: Fare, dtype: float64\n"
          ]
        }
      ]
    },
    {
      "cell_type": "markdown",
      "source": [
        "2. Create a DataFrame called class age that contains only the Pclass and Age columns of the Titanic\n",
        "dataset, in that order. Print the head of the result."
      ],
      "metadata": {
        "id": "boAs3ytkF9fa"
      }
    },
    {
      "cell_type": "code",
      "source": [
        "class_age = df_titanic[['Pclass', 'Age']]\n",
        "print(class_age.head())"
      ],
      "metadata": {
        "colab": {
          "base_uri": "https://localhost:8080/"
        },
        "id": "BXiLPsIKES2-",
        "outputId": "d49c4411-3f1b-4d9a-b639-0db256e65826"
      },
      "execution_count": 4,
      "outputs": [
        {
          "output_type": "stream",
          "name": "stdout",
          "text": [
            "   Pclass   Age\n",
            "0       3  22.0\n",
            "1       1  38.0\n",
            "2       3  26.0\n",
            "3       1  35.0\n",
            "4       3  35.0\n"
          ]
        }
      ]
    },
    {
      "cell_type": "markdown",
      "source": [
        "3. Create a DataFrame called survived gender that contains the Survived and Sex columns of the\n",
        "Titanic dataset, in that order.Print the head of the result."
      ],
      "metadata": {
        "id": "JKap6eZAF_iZ"
      }
    },
    {
      "cell_type": "code",
      "source": [
        "Survived_gender = df_titanic[['Survived', 'Sex']]\n",
        "print(Survived_gender.head())"
      ],
      "metadata": {
        "colab": {
          "base_uri": "https://localhost:8080/"
        },
        "id": "os07fftjETy0",
        "outputId": "13685b01-2f39-4846-9e90-87159a2aec75"
      },
      "execution_count": 5,
      "outputs": [
        {
          "output_type": "stream",
          "name": "stdout",
          "text": [
            "   Survived     Sex\n",
            "0         0    male\n",
            "1         1  female\n",
            "2         1  female\n",
            "3         1  female\n",
            "4         0    male\n"
          ]
        }
      ]
    },
    {
      "cell_type": "markdown",
      "source": [
        "# Problem - 2 - Subsetting:"
      ],
      "metadata": {
        "id": "eXopjU2kGGYJ"
      }
    },
    {
      "cell_type": "markdown",
      "source": [
        "**Subsetting Rows:**\n",
        "1. Filter the Titanic dataset for cases where the passenger’s fare is greater than 100, assigning it\n",
        "to fare gt 100.View the printed result."
      ],
      "metadata": {
        "id": "8HGVfgW9GKWB"
      }
    },
    {
      "cell_type": "code",
      "source": [
        "fare_gt_100 = df_titanic[df_titanic['Fare'] > 100]\n",
        "print(fare_gt_100.head())"
      ],
      "metadata": {
        "colab": {
          "base_uri": "https://localhost:8080/"
        },
        "id": "M3Mk88XdElsi",
        "outputId": "d3a1c1f3-1d03-4812-b72a-e054498d4f76"
      },
      "execution_count": 6,
      "outputs": [
        {
          "output_type": "stream",
          "name": "stdout",
          "text": [
            "     PassengerId  Survived  Pclass  \\\n",
            "27            28         0       1   \n",
            "31            32         1       1   \n",
            "88            89         1       1   \n",
            "118          119         0       1   \n",
            "195          196         1       1   \n",
            "\n",
            "                                               Name     Sex   Age  SibSp  \\\n",
            "27                   Fortune, Mr. Charles Alexander    male  19.0      3   \n",
            "31   Spencer, Mrs. William Augustus (Marie Eugenie)  female   NaN      1   \n",
            "88                       Fortune, Miss. Mabel Helen  female  23.0      3   \n",
            "118                        Baxter, Mr. Quigg Edmond    male  24.0      0   \n",
            "195                            Lurette, Miss. Elise  female  58.0      0   \n",
            "\n",
            "     Parch    Ticket      Fare        Cabin Embarked  \n",
            "27       2     19950  263.0000  C23 C25 C27        S  \n",
            "31       0  PC 17569  146.5208          B78        C  \n",
            "88       2     19950  263.0000  C23 C25 C27        S  \n",
            "118      1  PC 17558  247.5208      B58 B60        C  \n",
            "195      0  PC 17569  146.5208          B80        C  \n"
          ]
        }
      ]
    },
    {
      "cell_type": "markdown",
      "source": [
        "2. Filter the Titanic dataset for cases where the passenger’s class (Pclass) is 1, assigning it to\n",
        "first class.View the printed result."
      ],
      "metadata": {
        "id": "JzPORPzsGQqo"
      }
    },
    {
      "cell_type": "code",
      "source": [
        "first_class = df_titanic[df_titanic['Pclass'] == 1]\n",
        "print(first_class.head())"
      ],
      "metadata": {
        "colab": {
          "base_uri": "https://localhost:8080/"
        },
        "id": "O_lrn5GOGS9S",
        "outputId": "4555cc8a-30d3-432c-f7c2-bb574c288116"
      },
      "execution_count": 7,
      "outputs": [
        {
          "output_type": "stream",
          "name": "stdout",
          "text": [
            "    PassengerId  Survived  Pclass  \\\n",
            "1             2         1       1   \n",
            "3             4         1       1   \n",
            "6             7         0       1   \n",
            "11           12         1       1   \n",
            "23           24         1       1   \n",
            "\n",
            "                                                 Name     Sex   Age  SibSp  \\\n",
            "1   Cumings, Mrs. John Bradley (Florence Briggs Th...  female  38.0      1   \n",
            "3        Futrelle, Mrs. Jacques Heath (Lily May Peel)  female  35.0      1   \n",
            "6                             McCarthy, Mr. Timothy J    male  54.0      0   \n",
            "11                           Bonnell, Miss. Elizabeth  female  58.0      0   \n",
            "23                       Sloper, Mr. William Thompson    male  28.0      0   \n",
            "\n",
            "    Parch    Ticket     Fare Cabin Embarked  \n",
            "1       0  PC 17599  71.2833   C85        C  \n",
            "3       0    113803  53.1000  C123        S  \n",
            "6       0     17463  51.8625   E46        S  \n",
            "11      0    113783  26.5500  C103        S  \n",
            "23      0    113788  35.5000    A6        S  \n"
          ]
        }
      ]
    },
    {
      "cell_type": "markdown",
      "source": [
        "3. Filter the Titanic dataset for cases where the passenger’s age is less than 18 and the passenger\n",
        "is female (Sex is \"female\"), assigning it to female under 18. View the printed result."
      ],
      "metadata": {
        "id": "MBwTIRuyGWEo"
      }
    },
    {
      "cell_type": "code",
      "source": [
        "female_under_18 = df_titanic[(df_titanic['Age']<18) &  (df_titanic['Sex'] == 'female')]\n",
        "print(female_under_18.head())"
      ],
      "metadata": {
        "colab": {
          "base_uri": "https://localhost:8080/"
        },
        "id": "Et1TmrWdGXcS",
        "outputId": "a068575d-7cc7-42c2-e630-de4c8fac1f4a"
      },
      "execution_count": 8,
      "outputs": [
        {
          "output_type": "stream",
          "name": "stdout",
          "text": [
            "    PassengerId  Survived  Pclass                                  Name  \\\n",
            "9            10         1       2   Nasser, Mrs. Nicholas (Adele Achem)   \n",
            "10           11         1       3       Sandstrom, Miss. Marguerite Rut   \n",
            "14           15         0       3  Vestrom, Miss. Hulda Amanda Adolfina   \n",
            "22           23         1       3           McGowan, Miss. Anna \"Annie\"   \n",
            "24           25         0       3         Palsson, Miss. Torborg Danira   \n",
            "\n",
            "       Sex   Age  SibSp  Parch   Ticket     Fare Cabin Embarked  \n",
            "9   female  14.0      1      0   237736  30.0708   NaN        C  \n",
            "10  female   4.0      1      1  PP 9549  16.7000    G6        S  \n",
            "14  female  14.0      0      0   350406   7.8542   NaN        S  \n",
            "22  female  15.0      0      0   330923   8.0292   NaN        Q  \n",
            "24  female   8.0      3      1   349909  21.0750   NaN        S  \n"
          ]
        }
      ]
    },
    {
      "cell_type": "markdown",
      "source": [
        "**Subsetting Rows by Categorical variables:**\n",
        "1. Filter the Titanic dataset for passengers whose Embarked port is either \"C\" (Cherbourg) or \"S\"\n",
        "(Southampton), assigning the result to embarked c or s. View the printed result."
      ],
      "metadata": {
        "id": "NX-heAQ3Gavg"
      }
    },
    {
      "cell_type": "code",
      "source": [
        "embarked_c_or_s = df_titanic[(df_titanic['Embarked'] == 'C') | (df_titanic['Embarked'] == 'S')]\n",
        "print(embarked_c_or_s.head())"
      ],
      "metadata": {
        "colab": {
          "base_uri": "https://localhost:8080/"
        },
        "id": "qk4mqoocGeyn",
        "outputId": "e6d6cf26-2d1b-484b-f172-b1b10660bf2f"
      },
      "execution_count": 9,
      "outputs": [
        {
          "output_type": "stream",
          "name": "stdout",
          "text": [
            "   PassengerId  Survived  Pclass  \\\n",
            "0            1         0       3   \n",
            "1            2         1       1   \n",
            "2            3         1       3   \n",
            "3            4         1       1   \n",
            "4            5         0       3   \n",
            "\n",
            "                                                Name     Sex   Age  SibSp  \\\n",
            "0                            Braund, Mr. Owen Harris    male  22.0      1   \n",
            "1  Cumings, Mrs. John Bradley (Florence Briggs Th...  female  38.0      1   \n",
            "2                             Heikkinen, Miss. Laina  female  26.0      0   \n",
            "3       Futrelle, Mrs. Jacques Heath (Lily May Peel)  female  35.0      1   \n",
            "4                           Allen, Mr. William Henry    male  35.0      0   \n",
            "\n",
            "   Parch            Ticket     Fare Cabin Embarked  \n",
            "0      0         A/5 21171   7.2500   NaN        S  \n",
            "1      0          PC 17599  71.2833   C85        C  \n",
            "2      0  STON/O2. 3101282   7.9250   NaN        S  \n",
            "3      0            113803  53.1000  C123        S  \n",
            "4      0            373450   8.0500   NaN        S  \n"
          ]
        }
      ]
    },
    {
      "cell_type": "markdown",
      "source": [
        "2. Filter the Titanic dataset for passengers whose Pclass is in the list [1, 2] (indicating first\n",
        "or second class), assigning the result to first second class.View the printed result."
      ],
      "metadata": {
        "id": "mBLI2DG4Gi8I"
      }
    },
    {
      "cell_type": "code",
      "source": [
        "first_second_class = df_titanic[df_titanic['Pclass'].isin([1,2])]\n",
        "print(first_second_class.head())"
      ],
      "metadata": {
        "colab": {
          "base_uri": "https://localhost:8080/"
        },
        "id": "W8EUOrlDGkXS",
        "outputId": "f25aab8d-4978-40bd-852f-3bd74cbdb89f"
      },
      "execution_count": 10,
      "outputs": [
        {
          "output_type": "stream",
          "name": "stdout",
          "text": [
            "    PassengerId  Survived  Pclass  \\\n",
            "1             2         1       1   \n",
            "3             4         1       1   \n",
            "6             7         0       1   \n",
            "9            10         1       2   \n",
            "11           12         1       1   \n",
            "\n",
            "                                                 Name     Sex   Age  SibSp  \\\n",
            "1   Cumings, Mrs. John Bradley (Florence Briggs Th...  female  38.0      1   \n",
            "3        Futrelle, Mrs. Jacques Heath (Lily May Peel)  female  35.0      1   \n",
            "6                             McCarthy, Mr. Timothy J    male  54.0      0   \n",
            "9                 Nasser, Mrs. Nicholas (Adele Achem)  female  14.0      1   \n",
            "11                           Bonnell, Miss. Elizabeth  female  58.0      0   \n",
            "\n",
            "    Parch    Ticket     Fare Cabin Embarked  \n",
            "1       0  PC 17599  71.2833   C85        C  \n",
            "3       0    113803  53.1000  C123        S  \n",
            "6       0     17463  51.8625   E46        S  \n",
            "9       0    237736  30.0708   NaN        C  \n",
            "11      0    113783  26.5500  C103        S  \n"
          ]
        }
      ]
    },
    {
      "cell_type": "markdown",
      "source": [
        "# 3.2 Exploratory Data Analysis Practice Exercise - 1."
      ],
      "metadata": {
        "id": "lre8dS2gGna4"
      }
    },
    {
      "cell_type": "markdown",
      "source": [
        "1. Add a column to the Titanic dataset, fare per year, containing the fare divided by the age of\n",
        "the passenger(i.e., Fare/Age)."
      ],
      "metadata": {
        "id": "hcdBfaB3G2Qc"
      }
    },
    {
      "cell_type": "code",
      "source": [
        "fare_per_year = df_titanic['Fare'] / df_titanic['Age']\n",
        "df_titanic['Fare/Age'] = fare_per_year\n",
        "print(fare_per_year)"
      ],
      "metadata": {
        "colab": {
          "base_uri": "https://localhost:8080/"
        },
        "id": "s8tURRiPG356",
        "outputId": "f1daaa95-9eab-4f77-b123-c1dc2ac3c081"
      },
      "execution_count": 11,
      "outputs": [
        {
          "output_type": "stream",
          "name": "stdout",
          "text": [
            "0      0.329545\n",
            "1      1.875876\n",
            "2      0.304808\n",
            "3      1.517143\n",
            "4      0.230000\n",
            "         ...   \n",
            "886    0.481481\n",
            "887    1.578947\n",
            "888         NaN\n",
            "889    1.153846\n",
            "890    0.242188\n",
            "Length: 891, dtype: float64\n"
          ]
        }
      ]
    },
    {
      "cell_type": "markdown",
      "source": [
        "2. Subset rows where fare per year is higher than 5, assigning this to high fare age."
      ],
      "metadata": {
        "id": "O75pDCxuG6RQ"
      }
    },
    {
      "cell_type": "code",
      "source": [
        "subset_rows = df_titanic[df_titanic['Fare/Age'] > 5]\n",
        "print(subset_rows)"
      ],
      "metadata": {
        "colab": {
          "base_uri": "https://localhost:8080/"
        },
        "id": "LmsuDeQTG_F6",
        "outputId": "de95fbf8-4f9e-45c3-ea99-36c61677f713"
      },
      "execution_count": 12,
      "outputs": [
        {
          "output_type": "stream",
          "name": "stdout",
          "text": [
            "     PassengerId  Survived  Pclass                                      Name  \\\n",
            "7              8         0       3            Palsson, Master. Gosta Leonard   \n",
            "16            17         0       3                      Rice, Master. Eugene   \n",
            "27            28         0       1            Fortune, Mr. Charles Alexander   \n",
            "43            44         1       2  Laroche, Miss. Simonne Marie Anne Andree   \n",
            "50            51         0       3                Panula, Master. Juha Niilo   \n",
            "..           ...       ...     ...                                       ...   \n",
            "813          814         0       3        Andersson, Miss. Ebba Iris Alfrida   \n",
            "824          825         0       3              Panula, Master. Urho Abraham   \n",
            "827          828         1       2                     Mallet, Master. Andre   \n",
            "831          832         1       2           Richards, Master. George Sibley   \n",
            "850          851         0       3   Andersson, Master. Sigvard Harald Elias   \n",
            "\n",
            "        Sex    Age  SibSp  Parch           Ticket      Fare        Cabin  \\\n",
            "7      male   2.00      3      1           349909   21.0750          NaN   \n",
            "16     male   2.00      4      1           382652   29.1250          NaN   \n",
            "27     male  19.00      3      2            19950  263.0000  C23 C25 C27   \n",
            "43   female   3.00      1      2    SC/Paris 2123   41.5792          NaN   \n",
            "50     male   7.00      4      1          3101295   39.6875          NaN   \n",
            "..      ...    ...    ...    ...              ...       ...          ...   \n",
            "813  female   6.00      4      2           347082   31.2750          NaN   \n",
            "824    male   2.00      4      1          3101295   39.6875          NaN   \n",
            "827    male   1.00      0      2  S.C./PARIS 2079   37.0042          NaN   \n",
            "831    male   0.83      1      1            29106   18.7500          NaN   \n",
            "850    male   4.00      4      2           347082   31.2750          NaN   \n",
            "\n",
            "    Embarked   Fare/Age  \n",
            "7          S  10.537500  \n",
            "16         Q  14.562500  \n",
            "27         S  13.842105  \n",
            "43         C  13.859733  \n",
            "50         S   5.669643  \n",
            "..       ...        ...  \n",
            "813        S   5.212500  \n",
            "824        S  19.843750  \n",
            "827        C  37.004200  \n",
            "831        S  22.590361  \n",
            "850        S   7.818750  \n",
            "\n",
            "[68 rows x 13 columns]\n"
          ]
        }
      ]
    },
    {
      "cell_type": "markdown",
      "source": [
        "3. Sort high fare age by descending fare per year, assigning this to high fare age srt."
      ],
      "metadata": {
        "id": "rGVGH8hdG75Y"
      }
    },
    {
      "cell_type": "code",
      "source": [
        "high_fare_age_srt = subset_rows.sort_values(by='Fare/Age', ascending=False)\n",
        "print(high_fare_age_srt)"
      ],
      "metadata": {
        "colab": {
          "base_uri": "https://localhost:8080/"
        },
        "id": "KRA85a5_HC5o",
        "outputId": "c6ce319d-d653-44ac-c4a8-cc56ed048fa3"
      },
      "execution_count": 13,
      "outputs": [
        {
          "output_type": "stream",
          "name": "stdout",
          "text": [
            "     PassengerId  Survived  Pclass                                    Name  \\\n",
            "305          306         1       1          Allison, Master. Hudson Trevor   \n",
            "297          298         0       1            Allison, Miss. Helen Loraine   \n",
            "386          387         0       3         Goodwin, Master. Sidney Leonard   \n",
            "164          165         0       3            Panula, Master. Eino Viljami   \n",
            "183          184         1       2               Becker, Master. Richard F   \n",
            "..           ...       ...     ...                                     ...   \n",
            "318          319         1       1                Wick, Miss. Mary Natalie   \n",
            "348          349         1       3  Coutts, Master. William Loch \"William\"   \n",
            "205          206         0       3              Strom, Miss. Telma Matilda   \n",
            "813          814         0       3      Andersson, Miss. Ebba Iris Alfrida   \n",
            "480          481         0       3          Goodwin, Master. Harold Victor   \n",
            "\n",
            "        Sex    Age  SibSp  Parch      Ticket      Fare    Cabin Embarked  \\\n",
            "305    male   0.92      1      2      113781  151.5500  C22 C26        S   \n",
            "297  female   2.00      1      2      113781  151.5500  C22 C26        S   \n",
            "386    male   1.00      5      2     CA 2144   46.9000      NaN        S   \n",
            "164    male   1.00      4      1     3101295   39.6875      NaN        S   \n",
            "183    male   1.00      2      1      230136   39.0000       F4        S   \n",
            "..      ...    ...    ...    ...         ...       ...      ...      ...   \n",
            "318  female  31.00      0      2       36928  164.8667       C7        S   \n",
            "348    male   3.00      1      1  C.A. 37671   15.9000      NaN        S   \n",
            "205  female   2.00      0      1      347054   10.4625       G6        S   \n",
            "813  female   6.00      4      2      347082   31.2750      NaN        S   \n",
            "480    male   9.00      5      2     CA 2144   46.9000      NaN        S   \n",
            "\n",
            "       Fare/Age  \n",
            "305  164.728261  \n",
            "297   75.775000  \n",
            "386   46.900000  \n",
            "164   39.687500  \n",
            "183   39.000000  \n",
            "..          ...  \n",
            "318    5.318281  \n",
            "348    5.300000  \n",
            "205    5.231250  \n",
            "813    5.212500  \n",
            "480    5.211111  \n",
            "\n",
            "[68 rows x 13 columns]\n"
          ]
        }
      ]
    },
    {
      "cell_type": "markdown",
      "source": [
        "4. Select only the Name and fare per year columns of high fare age srt and save the result as result."
      ],
      "metadata": {
        "id": "lKgwg4FtG9Bo"
      }
    },
    {
      "cell_type": "code",
      "source": [
        "result = high_fare_age_srt[['Name', 'Fare/Age']]"
      ],
      "metadata": {
        "id": "kRgI5m4gHEpC"
      },
      "execution_count": 14,
      "outputs": []
    },
    {
      "cell_type": "markdown",
      "source": [
        "5. Look at the result."
      ],
      "metadata": {
        "id": "-3Qv_82iG-I5"
      }
    },
    {
      "cell_type": "code",
      "source": [
        "print(result)"
      ],
      "metadata": {
        "colab": {
          "base_uri": "https://localhost:8080/"
        },
        "id": "K4DQcjs0HGIy",
        "outputId": "80e61f03-591b-44f0-b1bd-d7708c03139c"
      },
      "execution_count": 15,
      "outputs": [
        {
          "output_type": "stream",
          "name": "stdout",
          "text": [
            "                                       Name    Fare/Age\n",
            "305          Allison, Master. Hudson Trevor  164.728261\n",
            "297            Allison, Miss. Helen Loraine   75.775000\n",
            "386         Goodwin, Master. Sidney Leonard   46.900000\n",
            "164            Panula, Master. Eino Viljami   39.687500\n",
            "183               Becker, Master. Richard F   39.000000\n",
            "..                                      ...         ...\n",
            "318                Wick, Miss. Mary Natalie    5.318281\n",
            "348  Coutts, Master. William Loch \"William\"    5.300000\n",
            "205              Strom, Miss. Telma Matilda    5.231250\n",
            "813      Andersson, Miss. Ebba Iris Alfrida    5.212500\n",
            "480          Goodwin, Master. Harold Victor    5.211111\n",
            "\n",
            "[68 rows x 2 columns]\n"
          ]
        }
      ]
    },
    {
      "cell_type": "markdown",
      "source": [
        "**Which adult male passenger (age ≥ 18 and Sex is ’male’) paid the highest fare relative to their class?**"
      ],
      "metadata": {
        "id": "Yx-JLlmcHJWc"
      }
    },
    {
      "cell_type": "markdown",
      "source": [
        "1. Add a column to the Titanic dataset, fare per class, containing the fare divided by the passenger\n",
        "class i.e. Fare / Pclass."
      ],
      "metadata": {
        "id": "Fzclr2u3HTsG"
      }
    },
    {
      "cell_type": "code",
      "source": [
        "fare_per_class = df_titanic['Fare'] / df_titanic['Pclass']\n",
        "df_titanic['Fare/Class'] = fare_per_class"
      ],
      "metadata": {
        "id": "Bd6Se7F1HbLq"
      },
      "execution_count": 16,
      "outputs": []
    },
    {
      "cell_type": "markdown",
      "source": [
        "2. Subset rows where the passenger is male (Sex is ”male”) and an adult (Age is greater than or equal\n",
        "to 18), assigning this to adult males."
      ],
      "metadata": {
        "id": "myziL82bHU5g"
      }
    },
    {
      "cell_type": "code",
      "source": [
        "adult_males = df_titanic[(df_titanic['Sex'] == 'male') & (df_titanic['Age'] >= 18)]\n",
        "print(adult_males)"
      ],
      "metadata": {
        "colab": {
          "base_uri": "https://localhost:8080/"
        },
        "id": "DJ5yZReJHcx1",
        "outputId": "dbc5b062-ade4-41f0-daa3-8c9c44421259"
      },
      "execution_count": 17,
      "outputs": [
        {
          "output_type": "stream",
          "name": "stdout",
          "text": [
            "     PassengerId  Survived  Pclass                            Name   Sex  \\\n",
            "0              1         0       3         Braund, Mr. Owen Harris  male   \n",
            "4              5         0       3        Allen, Mr. William Henry  male   \n",
            "6              7         0       1         McCarthy, Mr. Timothy J  male   \n",
            "12            13         0       3  Saundercock, Mr. William Henry  male   \n",
            "13            14         0       3     Andersson, Mr. Anders Johan  male   \n",
            "..           ...       ...     ...                             ...   ...   \n",
            "883          884         0       2   Banfield, Mr. Frederick James  male   \n",
            "884          885         0       3          Sutehall, Mr. Henry Jr  male   \n",
            "886          887         0       2           Montvila, Rev. Juozas  male   \n",
            "889          890         1       1           Behr, Mr. Karl Howell  male   \n",
            "890          891         0       3             Dooley, Mr. Patrick  male   \n",
            "\n",
            "      Age  SibSp  Parch            Ticket     Fare Cabin Embarked  Fare/Age  \\\n",
            "0    22.0      1      0         A/5 21171   7.2500   NaN        S  0.329545   \n",
            "4    35.0      0      0            373450   8.0500   NaN        S  0.230000   \n",
            "6    54.0      0      0             17463  51.8625   E46        S  0.960417   \n",
            "12   20.0      0      0         A/5. 2151   8.0500   NaN        S  0.402500   \n",
            "13   39.0      1      5            347082  31.2750   NaN        S  0.801923   \n",
            "..    ...    ...    ...               ...      ...   ...      ...       ...   \n",
            "883  28.0      0      0  C.A./SOTON 34068  10.5000   NaN        S  0.375000   \n",
            "884  25.0      0      0   SOTON/OQ 392076   7.0500   NaN        S  0.282000   \n",
            "886  27.0      0      0            211536  13.0000   NaN        S  0.481481   \n",
            "889  26.0      0      0            111369  30.0000  C148        C  1.153846   \n",
            "890  32.0      0      0            370376   7.7500   NaN        Q  0.242188   \n",
            "\n",
            "     Fare/Class  \n",
            "0      2.416667  \n",
            "4      2.683333  \n",
            "6     51.862500  \n",
            "12     2.683333  \n",
            "13    10.425000  \n",
            "..          ...  \n",
            "883    5.250000  \n",
            "884    2.350000  \n",
            "886    6.500000  \n",
            "889   30.000000  \n",
            "890    2.583333  \n",
            "\n",
            "[395 rows x 14 columns]\n"
          ]
        }
      ]
    },
    {
      "cell_type": "markdown",
      "source": [
        "3. Sort adult males by descending fare per class, assigning this to adult males srt."
      ],
      "metadata": {
        "id": "rO9wIYz7HW13"
      }
    },
    {
      "cell_type": "code",
      "source": [
        "adult_males_srt = adult_males.sort_values(by='Fare/Class', ascending=False)\n",
        "print(adult_males_srt)"
      ],
      "metadata": {
        "colab": {
          "base_uri": "https://localhost:8080/"
        },
        "id": "ee4H0xXOHehN",
        "outputId": "8a04ee0a-237e-4732-9806-a4329e1ddffc"
      },
      "execution_count": 18,
      "outputs": [
        {
          "output_type": "stream",
          "name": "stdout",
          "text": [
            "     PassengerId  Survived  Pclass                                Name   Sex  \\\n",
            "737          738         1       1              Lesurer, Mr. Gustave J  male   \n",
            "679          680         1       1  Cardeza, Mr. Thomas Drake Martinez  male   \n",
            "27            28         0       1      Fortune, Mr. Charles Alexander  male   \n",
            "438          439         0       1                   Fortune, Mr. Mark  male   \n",
            "118          119         0       1            Baxter, Mr. Quigg Edmond  male   \n",
            "..           ...       ...     ...                                 ...   ...   \n",
            "271          272         1       3        Tornquist, Mr. William Henry  male   \n",
            "179          180         0       3                 Leonard, Mr. Lionel  male   \n",
            "302          303         0       3     Johnson, Mr. William Cahoone Jr  male   \n",
            "822          823         0       1     Reuchlin, Jonkheer. John George  male   \n",
            "806          807         0       1              Andrews, Mr. Thomas Jr  male   \n",
            "\n",
            "      Age  SibSp  Parch    Ticket      Fare        Cabin Embarked   Fare/Age  \\\n",
            "737  35.0      0      0  PC 17755  512.3292         B101        C  14.637977   \n",
            "679  36.0      0      1  PC 17755  512.3292  B51 B53 B55        C  14.231367   \n",
            "27   19.0      3      2     19950  263.0000  C23 C25 C27        S  13.842105   \n",
            "438  64.0      1      4     19950  263.0000  C23 C25 C27        S   4.109375   \n",
            "118  24.0      0      1  PC 17558  247.5208      B58 B60        C  10.313367   \n",
            "..    ...    ...    ...       ...       ...          ...      ...        ...   \n",
            "271  25.0      0      0      LINE    0.0000          NaN        S   0.000000   \n",
            "179  36.0      0      0      LINE    0.0000          NaN        S   0.000000   \n",
            "302  19.0      0      0      LINE    0.0000          NaN        S   0.000000   \n",
            "822  38.0      0      0     19972    0.0000          NaN        S   0.000000   \n",
            "806  39.0      0      0    112050    0.0000          A36        S   0.000000   \n",
            "\n",
            "     Fare/Class  \n",
            "737    512.3292  \n",
            "679    512.3292  \n",
            "27     263.0000  \n",
            "438    263.0000  \n",
            "118    247.5208  \n",
            "..          ...  \n",
            "271      0.0000  \n",
            "179      0.0000  \n",
            "302      0.0000  \n",
            "822      0.0000  \n",
            "806      0.0000  \n",
            "\n",
            "[395 rows x 14 columns]\n"
          ]
        }
      ]
    },
    {
      "cell_type": "markdown",
      "source": [
        "4. Select only the Name, Age, and fare per class columns of adult males sr and save the result\n",
        "as result."
      ],
      "metadata": {
        "id": "WFfHn_MkHYgZ"
      }
    },
    {
      "cell_type": "code",
      "source": [
        "result = adult_males_srt[['Name', 'Age', 'Fare/Class']]"
      ],
      "metadata": {
        "id": "9Dx325aSHgA3"
      },
      "execution_count": 19,
      "outputs": []
    },
    {
      "cell_type": "markdown",
      "source": [
        "5. Look at the result."
      ],
      "metadata": {
        "id": "I66wxv2jHZeH"
      }
    },
    {
      "cell_type": "code",
      "source": [
        "print(result)"
      ],
      "metadata": {
        "colab": {
          "base_uri": "https://localhost:8080/"
        },
        "id": "SWJSnC64HhEB",
        "outputId": "84208720-eacf-494a-a593-09849c5ed174"
      },
      "execution_count": 20,
      "outputs": [
        {
          "output_type": "stream",
          "name": "stdout",
          "text": [
            "                                   Name   Age  Fare/Class\n",
            "737              Lesurer, Mr. Gustave J  35.0    512.3292\n",
            "679  Cardeza, Mr. Thomas Drake Martinez  36.0    512.3292\n",
            "27       Fortune, Mr. Charles Alexander  19.0    263.0000\n",
            "438                   Fortune, Mr. Mark  64.0    263.0000\n",
            "118            Baxter, Mr. Quigg Edmond  24.0    247.5208\n",
            "..                                  ...   ...         ...\n",
            "271        Tornquist, Mr. William Henry  25.0      0.0000\n",
            "179                 Leonard, Mr. Lionel  36.0      0.0000\n",
            "302     Johnson, Mr. William Cahoone Jr  19.0      0.0000\n",
            "822     Reuchlin, Jonkheer. John George  38.0      0.0000\n",
            "806              Andrews, Mr. Thomas Jr  39.0      0.0000\n",
            "\n",
            "[395 rows x 3 columns]\n"
          ]
        }
      ]
    },
    {
      "cell_type": "markdown",
      "source": [
        "# 3.3 Exploratory Data Analysis with Group-by Method Practice Exercise:"
      ],
      "metadata": {
        "id": "ow1Emc8IHkHP"
      }
    },
    {
      "cell_type": "markdown",
      "source": [
        "**What percent of the total fare revenue came from each passenger class?**"
      ],
      "metadata": {
        "id": "2f4FgfPAHqkn"
      }
    },
    {
      "cell_type": "markdown",
      "source": [
        "1. Calculate the total Fare paid across all passengers in the Titanic dataset."
      ],
      "metadata": {
        "id": "wSjfNFoWHtRH"
      }
    },
    {
      "cell_type": "code",
      "source": [
        "total_fare = df_titanic['Fare'].sum()\n",
        "print(\"Total Fare: \", total_fare)"
      ],
      "metadata": {
        "colab": {
          "base_uri": "https://localhost:8080/"
        },
        "id": "Hr3VZuErHzLa",
        "outputId": "f26b2345-5da5-49fe-e2c6-a740cf96e2f4"
      },
      "execution_count": 44,
      "outputs": [
        {
          "output_type": "stream",
          "name": "stdout",
          "text": [
            "Total Fare:  28693.9493\n"
          ]
        }
      ]
    },
    {
      "cell_type": "markdown",
      "source": [
        "2. Subset for passengers in first class (Pclass is 1) and calculate their total fare."
      ],
      "metadata": {
        "id": "Yr_Y3n5zHumP"
      }
    },
    {
      "cell_type": "code",
      "source": [
        "first_class_fare = df_titanic[df_titanic['Pclass'] == 1]['Fare'].sum()\n",
        "print(\"First Class Fare: \", first_class_fare)"
      ],
      "metadata": {
        "colab": {
          "base_uri": "https://localhost:8080/"
        },
        "id": "nOfKZHcbH0TB",
        "outputId": "ba6866b5-030d-4887-f718-93b8dd601dc8"
      },
      "execution_count": 43,
      "outputs": [
        {
          "output_type": "stream",
          "name": "stdout",
          "text": [
            "First Class Fare:  18177.4125\n"
          ]
        }
      ]
    },
    {
      "cell_type": "markdown",
      "source": [
        "3. Do the same for second class (Pclass is 2) and third class (Pclass is 3)."
      ],
      "metadata": {
        "id": "QwHhbTI2Hvq3"
      }
    },
    {
      "cell_type": "code",
      "source": [
        "second_class_fare = df_titanic[df_titanic['Pclass'] == 2]['Fare'].sum()\n",
        "third_class_fare = df_titanic[df_titanic['Pclass'] == 3]['Fare'].sum()\n",
        "\n",
        "print(\"Second Class Fare: \", second_class_fare)\n",
        "print(\"Third Class Fare: \", third_class_fare)"
      ],
      "metadata": {
        "colab": {
          "base_uri": "https://localhost:8080/"
        },
        "id": "x2JCTkpKH1gx",
        "outputId": "39252c77-91a6-458c-b358-4685d77da98d"
      },
      "execution_count": 42,
      "outputs": [
        {
          "output_type": "stream",
          "name": "stdout",
          "text": [
            "Second Class Fare:  3801.8417\n",
            "Third Class Fare:  6714.6951\n"
          ]
        }
      ]
    },
    {
      "cell_type": "markdown",
      "source": [
        "4. Combine the fare totals from first, second, and third classes into a list."
      ],
      "metadata": {
        "id": "lmUrnmfoHw4B"
      }
    },
    {
      "cell_type": "code",
      "source": [
        "total_fare_by_class = [first_class_fare, second_class_fare, third_class_fare]\n",
        "print(total_fare_by_class)"
      ],
      "metadata": {
        "colab": {
          "base_uri": "https://localhost:8080/"
        },
        "id": "zOu3JWW4H2r6",
        "outputId": "8919ca47-1b77-4386-cce0-5c1ce320a38d"
      },
      "execution_count": 41,
      "outputs": [
        {
          "output_type": "stream",
          "name": "stdout",
          "text": [
            "[18177.4125, 3801.8417, 6714.6951]\n"
          ]
        }
      ]
    },
    {
      "cell_type": "markdown",
      "source": [
        "5. Divide the totals for each class by the overall total fare to get the proportion of fare revenue by class.\n",
        "Based on the dataset Answer the following question:"
      ],
      "metadata": {
        "id": "q5SopWv_Hx4K"
      }
    },
    {
      "cell_type": "code",
      "source": [
        "proportion_fare_by_class = [fare / total_fare for fare in total_fare_by_class]\n",
        "print(proportion_fare_by_class)"
      ],
      "metadata": {
        "colab": {
          "base_uri": "https://localhost:8080/"
        },
        "id": "jjNFFbnLH36i",
        "outputId": "ca0c9e86-0764-426d-d93f-50704610678a"
      },
      "execution_count": 40,
      "outputs": [
        {
          "output_type": "stream",
          "name": "stdout",
          "text": [
            "[0.6334928771899656, 0.1324962855496507, 0.23401083726038366]\n"
          ]
        }
      ]
    },
    {
      "cell_type": "markdown",
      "source": [
        "**What percent of the total number of passengers on the Titanic belonged to each age group (e.g., child, adult, senior)?**"
      ],
      "metadata": {
        "id": "MDE5qj0hH6XS"
      }
    },
    {
      "cell_type": "markdown",
      "source": [
        "1. Create a new column, age group, that categorizes passengers into \"child\" (age < 18), \"adult\" (age 18{64), and \"senior\" (age 65 and above)."
      ],
      "metadata": {
        "id": "p7d31NyiH9tY"
      }
    },
    {
      "cell_type": "code",
      "source": [
        "age_groups = []\n",
        "for age in df_titanic['Age']:\n",
        "    if age < 18:\n",
        "        age_groups.append('child')\n",
        "    elif age >= 18 and age <= 64:\n",
        "        age_groups.append('adult')\n",
        "    else:\n",
        "        age_groups.append('senior')\n",
        "\n",
        "df_titanic['Age Group'] = age_groups"
      ],
      "metadata": {
        "id": "o91pgim5IGoa"
      },
      "execution_count": 39,
      "outputs": []
    },
    {
      "cell_type": "markdown",
      "source": [
        "2. Calculate the total number of passengers on the Titanic."
      ],
      "metadata": {
        "id": "a4jVSKDGIBJO"
      }
    },
    {
      "cell_type": "code",
      "source": [
        "Total_number_of_passengers = len(df_titanic)\n",
        "print(\"Total number of passengers: \", Total_number_of_passengers)"
      ],
      "metadata": {
        "colab": {
          "base_uri": "https://localhost:8080/"
        },
        "id": "shSAtXPXIHwd",
        "outputId": "dfc3779a-be66-4510-c639-a5f80dca1104"
      },
      "execution_count": 38,
      "outputs": [
        {
          "output_type": "stream",
          "name": "stdout",
          "text": [
            "Total number of passengers:  891\n"
          ]
        }
      ]
    },
    {
      "cell_type": "markdown",
      "source": [
        "3. Count the number of passengers in each age group."
      ],
      "metadata": {
        "id": "ieExELqXICeB"
      }
    },
    {
      "cell_type": "code",
      "source": [
        "age_group_count = df_titanic['Age Group'].value_counts()\n",
        "print(age_group_count)"
      ],
      "metadata": {
        "colab": {
          "base_uri": "https://localhost:8080/",
          "height": 569
        },
        "id": "NwaVxfeVIJA_",
        "outputId": "2bb556e7-b8b4-41ad-f753-2b7719702132"
      },
      "execution_count": 37,
      "outputs": [
        {
          "output_type": "error",
          "ename": "KeyError",
          "evalue": "'Age Group'",
          "traceback": [
            "\u001b[0;31m---------------------------------------------------------------------------\u001b[0m",
            "\u001b[0;31mKeyError\u001b[0m                                  Traceback (most recent call last)",
            "\u001b[0;32m/usr/local/lib/python3.10/dist-packages/pandas/core/indexes/base.py\u001b[0m in \u001b[0;36mget_loc\u001b[0;34m(self, key)\u001b[0m\n\u001b[1;32m   3804\u001b[0m         \u001b[0;32mtry\u001b[0m\u001b[0;34m:\u001b[0m\u001b[0;34m\u001b[0m\u001b[0;34m\u001b[0m\u001b[0m\n\u001b[0;32m-> 3805\u001b[0;31m             \u001b[0;32mreturn\u001b[0m \u001b[0mself\u001b[0m\u001b[0;34m.\u001b[0m\u001b[0m_engine\u001b[0m\u001b[0;34m.\u001b[0m\u001b[0mget_loc\u001b[0m\u001b[0;34m(\u001b[0m\u001b[0mcasted_key\u001b[0m\u001b[0;34m)\u001b[0m\u001b[0;34m\u001b[0m\u001b[0;34m\u001b[0m\u001b[0m\n\u001b[0m\u001b[1;32m   3806\u001b[0m         \u001b[0;32mexcept\u001b[0m \u001b[0mKeyError\u001b[0m \u001b[0;32mas\u001b[0m \u001b[0merr\u001b[0m\u001b[0;34m:\u001b[0m\u001b[0;34m\u001b[0m\u001b[0;34m\u001b[0m\u001b[0m\n",
            "\u001b[0;32mindex.pyx\u001b[0m in \u001b[0;36mpandas._libs.index.IndexEngine.get_loc\u001b[0;34m()\u001b[0m\n",
            "\u001b[0;32mindex.pyx\u001b[0m in \u001b[0;36mpandas._libs.index.IndexEngine.get_loc\u001b[0;34m()\u001b[0m\n",
            "\u001b[0;32mpandas/_libs/hashtable_class_helper.pxi\u001b[0m in \u001b[0;36mpandas._libs.hashtable.PyObjectHashTable.get_item\u001b[0;34m()\u001b[0m\n",
            "\u001b[0;32mpandas/_libs/hashtable_class_helper.pxi\u001b[0m in \u001b[0;36mpandas._libs.hashtable.PyObjectHashTable.get_item\u001b[0;34m()\u001b[0m\n",
            "\u001b[0;31mKeyError\u001b[0m: 'Age Group'",
            "\nThe above exception was the direct cause of the following exception:\n",
            "\u001b[0;31mKeyError\u001b[0m                                  Traceback (most recent call last)",
            "\u001b[0;32m<ipython-input-37-f944636d5cf0>\u001b[0m in \u001b[0;36m<cell line: 1>\u001b[0;34m()\u001b[0m\n\u001b[0;32m----> 1\u001b[0;31m \u001b[0mage_group_count\u001b[0m \u001b[0;34m=\u001b[0m \u001b[0mdf_titanic\u001b[0m\u001b[0;34m[\u001b[0m\u001b[0;34m'Age Group'\u001b[0m\u001b[0;34m]\u001b[0m\u001b[0;34m.\u001b[0m\u001b[0mvalue_counts\u001b[0m\u001b[0;34m(\u001b[0m\u001b[0;34m)\u001b[0m\u001b[0;34m\u001b[0m\u001b[0;34m\u001b[0m\u001b[0m\n\u001b[0m\u001b[1;32m      2\u001b[0m \u001b[0mprint\u001b[0m\u001b[0;34m(\u001b[0m\u001b[0mage_group_count\u001b[0m\u001b[0;34m)\u001b[0m\u001b[0;34m\u001b[0m\u001b[0;34m\u001b[0m\u001b[0m\n",
            "\u001b[0;32m/usr/local/lib/python3.10/dist-packages/pandas/core/frame.py\u001b[0m in \u001b[0;36m__getitem__\u001b[0;34m(self, key)\u001b[0m\n\u001b[1;32m   4100\u001b[0m             \u001b[0;32mif\u001b[0m \u001b[0mself\u001b[0m\u001b[0;34m.\u001b[0m\u001b[0mcolumns\u001b[0m\u001b[0;34m.\u001b[0m\u001b[0mnlevels\u001b[0m \u001b[0;34m>\u001b[0m \u001b[0;36m1\u001b[0m\u001b[0;34m:\u001b[0m\u001b[0;34m\u001b[0m\u001b[0;34m\u001b[0m\u001b[0m\n\u001b[1;32m   4101\u001b[0m                 \u001b[0;32mreturn\u001b[0m \u001b[0mself\u001b[0m\u001b[0;34m.\u001b[0m\u001b[0m_getitem_multilevel\u001b[0m\u001b[0;34m(\u001b[0m\u001b[0mkey\u001b[0m\u001b[0;34m)\u001b[0m\u001b[0;34m\u001b[0m\u001b[0;34m\u001b[0m\u001b[0m\n\u001b[0;32m-> 4102\u001b[0;31m             \u001b[0mindexer\u001b[0m \u001b[0;34m=\u001b[0m \u001b[0mself\u001b[0m\u001b[0;34m.\u001b[0m\u001b[0mcolumns\u001b[0m\u001b[0;34m.\u001b[0m\u001b[0mget_loc\u001b[0m\u001b[0;34m(\u001b[0m\u001b[0mkey\u001b[0m\u001b[0;34m)\u001b[0m\u001b[0;34m\u001b[0m\u001b[0;34m\u001b[0m\u001b[0m\n\u001b[0m\u001b[1;32m   4103\u001b[0m             \u001b[0;32mif\u001b[0m \u001b[0mis_integer\u001b[0m\u001b[0;34m(\u001b[0m\u001b[0mindexer\u001b[0m\u001b[0;34m)\u001b[0m\u001b[0;34m:\u001b[0m\u001b[0;34m\u001b[0m\u001b[0;34m\u001b[0m\u001b[0m\n\u001b[1;32m   4104\u001b[0m                 \u001b[0mindexer\u001b[0m \u001b[0;34m=\u001b[0m \u001b[0;34m[\u001b[0m\u001b[0mindexer\u001b[0m\u001b[0;34m]\u001b[0m\u001b[0;34m\u001b[0m\u001b[0;34m\u001b[0m\u001b[0m\n",
            "\u001b[0;32m/usr/local/lib/python3.10/dist-packages/pandas/core/indexes/base.py\u001b[0m in \u001b[0;36mget_loc\u001b[0;34m(self, key)\u001b[0m\n\u001b[1;32m   3810\u001b[0m             ):\n\u001b[1;32m   3811\u001b[0m                 \u001b[0;32mraise\u001b[0m \u001b[0mInvalidIndexError\u001b[0m\u001b[0;34m(\u001b[0m\u001b[0mkey\u001b[0m\u001b[0;34m)\u001b[0m\u001b[0;34m\u001b[0m\u001b[0;34m\u001b[0m\u001b[0m\n\u001b[0;32m-> 3812\u001b[0;31m             \u001b[0;32mraise\u001b[0m \u001b[0mKeyError\u001b[0m\u001b[0;34m(\u001b[0m\u001b[0mkey\u001b[0m\u001b[0;34m)\u001b[0m \u001b[0;32mfrom\u001b[0m \u001b[0merr\u001b[0m\u001b[0;34m\u001b[0m\u001b[0;34m\u001b[0m\u001b[0m\n\u001b[0m\u001b[1;32m   3813\u001b[0m         \u001b[0;32mexcept\u001b[0m \u001b[0mTypeError\u001b[0m\u001b[0;34m:\u001b[0m\u001b[0;34m\u001b[0m\u001b[0;34m\u001b[0m\u001b[0m\n\u001b[1;32m   3814\u001b[0m             \u001b[0;31m# If we have a listlike key, _check_indexing_error will raise\u001b[0m\u001b[0;34m\u001b[0m\u001b[0;34m\u001b[0m\u001b[0m\n",
            "\u001b[0;31mKeyError\u001b[0m: 'Age Group'"
          ]
        }
      ]
    },
    {
      "cell_type": "markdown",
      "source": [
        "4. Divide the count of each age group by the total number of passengers to get the proportion of passengers\n",
        "in each age group."
      ],
      "metadata": {
        "id": "mxbPE6LlIDvQ"
      }
    },
    {
      "cell_type": "code",
      "source": [
        "age_group_proportion = age_group_count / Total_number_of_passengers\n",
        "print(age_group_proportion)"
      ],
      "metadata": {
        "colab": {
          "base_uri": "https://localhost:8080/"
        },
        "id": "XKj-vKKsIKNZ",
        "outputId": "89be7b59-31ee-4e7e-d8f0-c93ed3fe1216"
      },
      "execution_count": 36,
      "outputs": [
        {
          "output_type": "stream",
          "name": "stdout",
          "text": [
            "Age Group\n",
            "adult     0.662177\n",
            "senior    0.210999\n",
            "child     0.126824\n",
            "Name: count, dtype: float64\n"
          ]
        }
      ]
    },
    {
      "cell_type": "markdown",
      "source": [
        "5. Display the proportion as a percentage."
      ],
      "metadata": {
        "id": "1_8NHnoSIE2F"
      }
    },
    {
      "cell_type": "code",
      "source": [
        "age_group_percentage = age_group_proportion * 100\n",
        "print(age_group_percentage)"
      ],
      "metadata": {
        "colab": {
          "base_uri": "https://localhost:8080/"
        },
        "id": "WiRvlqo8IL2a",
        "outputId": "5275aceb-c10c-4d4a-ee08-0e4cef8081ec"
      },
      "execution_count": 35,
      "outputs": [
        {
          "output_type": "stream",
          "name": "stdout",
          "text": [
            "Age Group\n",
            "adult     66.217733\n",
            "senior    21.099888\n",
            "child     12.682379\n",
            "Name: count, dtype: float64\n"
          ]
        }
      ]
    }
  ]
}