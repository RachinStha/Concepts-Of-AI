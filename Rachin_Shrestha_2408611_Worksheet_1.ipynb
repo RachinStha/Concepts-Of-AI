{
  "cells": [
    {
      "cell_type": "markdown",
      "metadata": {
        "id": "NWMM4079VdB-"
      },
      "source": [
        "# Problem - 1: Array Creation:"
      ]
    },
    {
      "cell_type": "code",
      "execution_count": null,
      "metadata": {
        "colab": {
          "base_uri": "https://localhost:8080/"
        },
        "id": "TwOCC3PMuWnQ",
        "outputId": "00558076-aff3-4860-c20d-4105cc027d93"
      },
      "outputs": [
        {
          "name": "stdout",
          "output_type": "stream",
          "text": [
            "Empty Array: [[4.9e-324 9.9e-324]\n",
            " [1.5e-323 2.0e-323]]\n",
            "\n",
            "One Array: [[1. 1.]\n",
            " [1. 1.]]\n",
            "Reshaped Array: (2, 2)\n",
            "\n",
            "Full Array: [[7 7]\n",
            " [7 7]]\n",
            "\n",
            "Zero Array Like: [[0 0]\n",
            " [0 0]]\n",
            "\n",
            "One Array Like: [[1 1]\n",
            " [1 1]]\n",
            "\n",
            "New List Array: [1 2 3 4]\n"
          ]
        }
      ],
      "source": [
        "import numpy as np\n",
        "\n",
        "empty_array = np.empty((2,2))\n",
        "print(\"Empty Array:\", empty_array)\n",
        "\n",
        "one_array = np.ones((2,2))\n",
        "print(\"\\nOne Array:\", one_array)\n",
        "\n",
        "print(\"Reshaped Array:\", np.shape(one_array))\n",
        "\n",
        "full_array = np.full((2,2), 7)\n",
        "print(\"\\nFull Array:\", full_array)\n",
        "\n",
        "zero_array_like = np.zeros_like(full_array)\n",
        "print(\"\\nZero Array Like:\", zero_array_like)\n",
        "\n",
        "one_array_like = np.ones_like(full_array)\n",
        "print(\"\\nOne Array Like:\", one_array_like)\n",
        "\n",
        "new_list = [1,2,3,4]\n",
        "new_list_array = np.array(new_list)\n",
        "print(\"\\nNew List Array:\", new_list_array)"
      ]
    },
    {
      "cell_type": "markdown",
      "metadata": {
        "id": "lQkEK-LZViQ2"
      },
      "source": [
        "# Problem - 2: Array Manipulation: Numerical Ranges and Array indexing:"
      ]
    },
    {
      "cell_type": "code",
      "execution_count": null,
      "metadata": {
        "colab": {
          "base_uri": "https://localhost:8080/"
        },
        "id": "WWzrQ0f74dA2",
        "outputId": "8b4825b8-43c1-4701-c0cd-0fb04ffebb7f"
      },
      "outputs": [
        {
          "name": "stdout",
          "output_type": "stream",
          "text": [
            "Long Array: [10 11 12 13 14 15 16 17 18 19 20 21 22 23 24 25 26 27 28 29 30 31 32 33\n",
            " 34 35 36 37 38 39 40 41 42 43 44 45 46 47 48 49]\n",
            "\n",
            "Given Array: [0 1 2 3 4 5 6 7 8]\n",
            "Reshaped Array: [[0 1 2]\n",
            " [3 4 5]\n",
            " [6 7 8]]\n",
            "\n",
            "Identity Array: [[1. 0. 0.]\n",
            " [0. 1. 0.]\n",
            " [0. 0. 1.]]\n",
            "\n",
            "Random Array: [0.63500458 0.51170728 0.47994031 0.12191948 0.95314281 0.18557519\n",
            " 0.31851186 0.00391615 0.63824504 0.51433819 0.13863404 0.20757993\n",
            " 0.08308971 0.52960241 0.4982053  0.57529146 0.22714359 0.28097554\n",
            " 0.68167714 0.81751884 0.78736022 0.27560297 0.46693874 0.13589722\n",
            " 0.07458039 0.06041631 0.73383953 0.99103951 0.22657053 0.4127899 ]\n",
            "Mean: 0.41890180527662035\n",
            "\n",
            "Random 10x10 Array: [[0.2166817  0.82048361 0.25448659 0.01781626 0.36673189 0.3803921\n",
            "  0.85898236 0.53319386 0.98523308 0.41655265]\n",
            " [0.41837353 0.93786835 0.45196354 0.88231102 0.76594226 0.95688715\n",
            "  0.74242525 0.43925488 0.31772367 0.60815339]\n",
            " [0.85614776 0.3479839  0.95712001 0.87658785 0.23456898 0.64122085\n",
            "  0.43900502 0.66286123 0.32028987 0.42186667]\n",
            " [0.80314611 0.47000703 0.33102618 0.51290728 0.34922583 0.39699793\n",
            "  0.89859533 0.61124297 0.68273636 0.91716185]\n",
            " [0.38863903 0.09558673 0.10817049 0.82893433 0.68221357 0.74464347\n",
            "  0.90902675 0.11967758 0.62677815 0.62596022]\n",
            " [0.24154592 0.5308734  0.37014548 0.04564577 0.87033632 0.11007434\n",
            "  0.94050797 0.18876516 0.03611803 0.00657477]\n",
            " [0.73357647 0.13401564 0.14328325 0.51708486 0.16799019 0.6997289\n",
            "  0.96062186 0.84307536 0.23841141 0.86792773]\n",
            " [0.12735245 0.91042578 0.28425018 0.6484103  0.22504847 0.54697502\n",
            "  0.30017859 0.19893937 0.1859561  0.5967922 ]\n",
            " [0.40868649 0.03976456 0.14658412 0.58544793 0.69059298 0.39613209\n",
            "  0.5548518  0.42706611 0.10521099 0.81630603]\n",
            " [0.85886873 0.04149678 0.54823501 0.62730861 0.37453967 0.97646341\n",
            "  0.43922707 0.29747485 0.64532902 0.01716627]]\n",
            "Minimum Value: 0.0065747742350406035\n",
            "Maximum Value: 0.9852330810209292\n",
            "\n",
            "Zero Array (10): [0. 0. 0. 0. 0. 0. 0. 0. 0. 0.]\n",
            "\n",
            "Replaced Zero Array (10): [0. 0. 0. 0. 1. 0. 0. 0. 0. 0.]\n",
            "\n",
            "Normal Array: [1, 2, 0, 0, 4, 0]\n",
            "Reversed Normal Array: [0, 4, 0, 0, 2, 1]\n",
            "\n",
            "2D Array: [[1. 1. 1.]\n",
            " [1. 0. 1.]\n",
            " [1. 1. 1.]]\n",
            "\n",
            "Checkboard Pattern: [[0. 1. 0. 1. 0. 1. 0. 1.]\n",
            " [1. 0. 1. 0. 1. 0. 1. 0.]\n",
            " [0. 1. 0. 1. 0. 1. 0. 1.]\n",
            " [1. 0. 1. 0. 1. 0. 1. 0.]\n",
            " [0. 1. 0. 1. 0. 1. 0. 1.]\n",
            " [1. 0. 1. 0. 1. 0. 1. 0.]\n",
            " [0. 1. 0. 1. 0. 1. 0. 1.]\n",
            " [1. 0. 1. 0. 1. 0. 1. 0.]]\n"
          ]
        }
      ],
      "source": [
        "long_array = np.arange(10,50)\n",
        "print(\"Long Array:\", long_array)\n",
        "\n",
        "given_array = np.arange(0,9)\n",
        "print(\"\\nGiven Array:\", given_array)\n",
        "reshape_array = given_array.reshape(3,3)\n",
        "print(\"Reshaped Array:\", reshape_array)\n",
        "\n",
        "identity_matrix = np.eye(3)\n",
        "print(\"\\nIdentity Array:\", identity_matrix)\n",
        "\n",
        "random_array = np.random.random(30)\n",
        "print(\"\\nRandom Array:\", random_array)\n",
        "print(\"Mean:\", random_array.mean())\n",
        "\n",
        "ten_array = np.random.random((10,10))\n",
        "print(\"\\nRandom 10x10 Array:\", ten_array)\n",
        "print(\"Minimum Value:\", np.min(ten_array))\n",
        "print(\"Maximum Value:\", np.max(ten_array))\n",
        "\n",
        "zero_array = np.zeros(10)\n",
        "print(\"\\nZero Array (10):\", zero_array)\n",
        "zero_array[4] = 1;\n",
        "print(\"\\nReplaced Zero Array (10):\", zero_array)\n",
        "\n",
        "normal_array = [1,2,0,0,4,0]\n",
        "print(\"\\nNormal Array:\", normal_array)\n",
        "reverse_normal_array = normal_array[::-1]\n",
        "print(\"Reversed Normal Array:\", reverse_normal_array)\n",
        "\n",
        "twoD_array = np.ones((3,3))\n",
        "twoD_array[1,1] = 0\n",
        "print(\"\\n2D Array:\", twoD_array)\n",
        "\n",
        "checkboard_array = np.zeros((8,8))\n",
        "checkboard_array[1::2,::2] = 1\n",
        "checkboard_array[::2,1::2] = 1\n",
        "print(\"\\nCheckboard Pattern:\", checkboard_array)"
      ]
    },
    {
      "cell_type": "markdown",
      "metadata": {
        "id": "OmWEjJl9CXah"
      },
      "source": [
        "# Problem - 3: Array Operations:"
      ]
    },
    {
      "cell_type": "code",
      "execution_count": null,
      "metadata": {
        "colab": {
          "base_uri": "https://localhost:8080/"
        },
        "id": "VArS0oOKC-ln",
        "outputId": "7577d308-1b61-4442-ad8e-cf92851b2417"
      },
      "outputs": [
        {
          "name": "stdout",
          "output_type": "stream",
          "text": [
            "Addition\n",
            "Array 1: [[ 6  8]\n",
            " [10 13]]\n",
            "Array 2: [20 22]\n",
            "\n",
            "Subtraction\n",
            "Array 1: [[-4 -4]\n",
            " [-4 -3]]\n",
            "Array 2: [-2 -2]\n",
            "\n",
            "Multiplication\n",
            "Array X: [[ 2  4]\n",
            " [ 6 10]]\n",
            "Array Y: [[15 18]\n",
            " [21 24]]\n",
            "Array V: [45 50]\n",
            "Array W: [77 84]\n",
            "\n",
            "Square\n",
            "Array X: [[ 1  4]\n",
            " [ 9 25]]\n",
            "Array Y: [[25 36]\n",
            " [49 64]]\n",
            "Array V: [ 81 100]\n",
            "Array W: [121 144]\n",
            "\n",
            "Dot Product\n",
            "V.W: 219\n",
            "X.V: [29 77]\n",
            "X.Y: [[19 22]\n",
            " [50 58]]\n",
            "\n",
            "Concatenate\n",
            "X & Y: [[1 2]\n",
            " [3 5]\n",
            " [5 6]\n",
            " [7 8]]\n",
            "V & W: [[ 9 10]\n",
            " [11 12]]\n",
            "\n",
            "Concatenate Explain\n"
          ]
        }
      ],
      "source": [
        "from pathlib import PureWindowsPath\n",
        "x = np.array([[1,2], [3,5]])\n",
        "y = np.array([[5,6], [7,8]])\n",
        "v = np.array([9,10])\n",
        "w = np.array([11,12])\n",
        "\n",
        "# 1. Add the two array.\n",
        "print(\"Addition\")\n",
        "print(\"Array 1:\", np.add(x, y))\n",
        "print(\"Array 2:\", np.add(v, w))\n",
        "\n",
        "# 2. Subtract the two array.\n",
        "print(\"\\nSubtraction\")\n",
        "print(\"Array 1:\", np.subtract(x, y))\n",
        "print(\"Array 2:\", np.subtract(v, w))\n",
        "\n",
        "# 3. Multiply the array with any integers of your choice.\n",
        "print(\"\\nMultiplication\")\n",
        "print(\"Array X:\", 2*x)\n",
        "print(\"Array Y:\", 3*y)\n",
        "print(\"Array V:\", 5*v)\n",
        "print(\"Array W:\", 7*w)\n",
        "\n",
        "# 4. Find the square of each element of the array.\n",
        "print(\"\\nSquare\")\n",
        "print(\"Array X:\", np.square(x))\n",
        "print(\"Array Y:\", np.square(y))\n",
        "print(\"Array V:\", np.square(v))\n",
        "print(\"Array W:\", np.square(w))\n",
        "\n",
        "# 5. Find the dot product between: v(and)w ; x(and)v ; x(and)y.\n",
        "print(\"\\nDot Product\")\n",
        "print(\"V.W:\", np.dot(v, w))\n",
        "print(\"X.V:\", np.dot(x, v))\n",
        "print(\"X.Y:\", np.dot(x, y))\n",
        "\n",
        "# 6. Concatenate x(and)y along row and Concatenate v(and)w along column. {Hint:try np.concatenate() or np.vstack() functions.\n",
        "print(\"\\nConcatenate\")\n",
        "print(\"X & Y:\", np.concatenate((x, y), axis=0))\n",
        "print(\"V & W:\", np.vstack((v, w)))\n",
        "\n",
        "# 7. Concatenate x(and)v; if you get an error, observe and explain why did you get the error?\n",
        "print(\"\\nConcatenate Explain\")\n",
        "# print(\"X & V:\", np.hstack((x,v)))\n",
        "# Due to the difference in the no of dimentions between both arrays, it is not possible to concatenate the array following axis."
      ]
    },
    {
      "cell_type": "markdown",
      "metadata": {
        "id": "2GpgiK5PJvw-"
      },
      "source": [
        "# Problem - 4: Matrix Operations:"
      ]
    },
    {
      "cell_type": "code",
      "execution_count": null,
      "metadata": {
        "colab": {
          "base_uri": "https://localhost:8080/"
        },
        "id": "m9i4I2f6J4U3",
        "outputId": "a4d934a7-f606-436e-84df-50647482434c"
      },
      "outputs": [
        {
          "name": "stdout",
          "output_type": "stream",
          "text": [
            "A.A^-1: [[1.00000000e+00 0.00000000e+00]\n",
            " [1.77635684e-15 1.00000000e+00]]\n",
            "\n",
            "AB: [[23 13]\n",
            " [51 29]]\n",
            "BA: [[36 44]\n",
            " [13 16]]\n",
            "Is Equal: False\n",
            "\n",
            "(AB)^T: [[23 51]\n",
            " [13 29]]\n",
            "B^T.A^T: [[23 51]\n",
            " [13 29]]\n",
            "Is Equal: True\n",
            "\n",
            "Z: [ 2.  1. -2.]\n"
          ]
        }
      ],
      "source": [
        "a = np.array([[3,4], [7,8]])\n",
        "b = np.array([[5,3], [2,1]])\n",
        "\n",
        "# 1. Prove A.A−1 = I.\n",
        "a_inv = np.linalg.inv(a)\n",
        "print(\"A.A^-1:\", np.dot(a, a_inv))\n",
        "\n",
        "# 2. Prove AB ̸= BA.\n",
        "ab = np.dot(a, b)\n",
        "ba = np.dot(b, a)\n",
        "print(\"\\nAB:\", ab)\n",
        "print(\"BA:\", ba)\n",
        "print(\"Is Equal:\", np.array_equal(ab, ba))\n",
        "\n",
        "# 3. Prove (AB)^T = B^TA^T\n",
        "ab_t = np.transpose(ab)\n",
        "b_t = np.transpose(b)\n",
        "a_t = np.transpose(a)\n",
        "print(\"\\n(AB)^T:\", ab_t)\n",
        "print(\"B^T.A^T:\", np.dot(b_t, a_t))\n",
        "print(\"Is Equal:\", np.array_equal(ab_t, np.dot(b_t, a_t)))\n",
        "\n",
        "\n",
        "# Solve the following system of Linear equation using Inverse Methods.\n",
        "x = np.array([[2, -3, 1], [1, -1, 2], [3, 1, -1]])\n",
        "y = np.array([-1, -3, 9])\n",
        "x_inv = np.linalg.inv(x)\n",
        "z = np.dot(x_inv,y)\n",
        "print(\"\\nZ:\", z)"
      ]
    },
    {
      "cell_type": "markdown",
      "metadata": {
        "id": "O2zxT9leM3l4"
      },
      "source": [
        "# 4.2 Experiment: How Fast is Numpy?"
      ]
    },
    {
      "cell_type": "markdown",
      "metadata": {
        "id": "_uyMfhJDO12g"
      },
      "source": [
        "1. Element-wise Addition:\n",
        "\n",
        "• Using Python Lists, perform element-wise addition of two lists of size 1, 000, 000. Measure\n",
        "and Print the time taken for this operation.\n",
        "\n",
        "• Using Numpy Arrays, Repeat the calculation and measure and print the time taken for this\n",
        "operation."
      ]
    },
    {
      "cell_type": "code",
      "execution_count": null,
      "metadata": {
        "colab": {
          "base_uri": "https://localhost:8080/"
        },
        "id": "TwY4sLtSN-jA",
        "outputId": "633b26e3-c1c7-4699-8a60-7a4170d02863"
      },
      "outputs": [
        {
          "name": "stdout",
          "output_type": "stream",
          "text": [
            "Time taken using Python lists: 0.156365 seconds\n",
            "Time taken using NumPy arrays: 0.002628 seconds\n",
            "Time difference: (0.156365 - 0.002628) = 0.153737 seconds\n"
          ]
        }
      ],
      "source": [
        "import time\n",
        "import numpy as np\n",
        "\n",
        "size = 1_000_000\n",
        "list1 = [i for i in range(size)]\n",
        "list2 = [i for i in range(size)]\n",
        "\n",
        "start_time_list = time.time()\n",
        "result_list = [list1[i] + list2[i] for i in range(size)]\n",
        "end_time_list = time.time()\n",
        "time_list = end_time_list - start_time_list\n",
        "print(f\"Time taken using Python lists: {end_time_list - start_time_list:.6f} seconds\")\n",
        "\n",
        "array1 = np.arange(size)\n",
        "array2 = np.arange(size)\n",
        "\n",
        "start_time_numpy = time.time()\n",
        "result_array = array1 + array2\n",
        "end_time_numpy = time.time()\n",
        "time_numpy = end_time_numpy - start_time_numpy\n",
        "print(f\"Time taken using NumPy arrays: {end_time_numpy - start_time_numpy:.6f} seconds\")\n",
        "\n",
        "difference = time_list - time_numpy\n",
        "print(f\"Time difference: ({time_list:.6f} - {time_numpy:.6f}) = {difference:.6f} seconds\")"
      ]
    },
    {
      "cell_type": "markdown",
      "metadata": {
        "id": "LESi0kHiQzmv"
      },
      "source": [
        "2. Element-wise Multiplication\n",
        "\n",
        "• Using Python Lists, perform element-wise multiplication of two lists of size 1, 000, 000. Mea-\n",
        "sure and Print the time taken for this operation.\n",
        "\n",
        "• Using Numpy Arrays, Repeat the calculation and measure and print the time taken for this\n",
        "operation."
      ]
    },
    {
      "cell_type": "code",
      "execution_count": null,
      "metadata": {
        "colab": {
          "base_uri": "https://localhost:8080/"
        },
        "id": "mwypXYc4Q3tP",
        "outputId": "b874ebc7-3f39-4410-ba35-f411df89d742"
      },
      "outputs": [
        {
          "name": "stdout",
          "output_type": "stream",
          "text": [
            "Time taken using Python lists: 0.181882 seconds\n",
            "Time taken using NumPy arrays: 0.002788 seconds\n",
            "Time difference: (0.181882 - 0.002788) = 0.179095 seconds\n"
          ]
        }
      ],
      "source": [
        "size = 1_000_000\n",
        "list1 = [i for i in range(size)]\n",
        "list2 = [i for i in range(size)]\n",
        "\n",
        "start_time_list = time.time()\n",
        "result_list = [list1[i] * list2[i] for i in range(size)]\n",
        "end_time_list = time.time()\n",
        "time_list = end_time_list - start_time_list\n",
        "print(f\"Time taken using Python lists: {time_list:.6f} seconds\")\n",
        "\n",
        "array1 = np.arange(size)\n",
        "array2 = np.arange(size)\n",
        "\n",
        "start_time_numpy = time.time()\n",
        "result_array = array1 * array2\n",
        "end_time_numpy = time.time()\n",
        "time_numpy = end_time_numpy - start_time_numpy\n",
        "print(f\"Time taken using NumPy arrays: {time_numpy:.6f} seconds\")\n",
        "\n",
        "difference = time_list - time_numpy\n",
        "print(f\"Time difference: ({time_list:.6f} - {time_numpy:.6f}) = {difference:.6f} seconds\")\n"
      ]
    },
    {
      "cell_type": "markdown",
      "metadata": {
        "id": "Ialbg7pAP0Ka"
      },
      "source": [
        "3. Dot Product\n",
        "\n",
        "• Using Python Lists, compute the dot product of two lists of size 1, 000, 000. Measure and\n",
        "Print the time taken for this operation.\n",
        "\n",
        "• Using Numpy Arrays, Repeat the calculation and measure and print the time taken for this\n",
        "operation."
      ]
    },
    {
      "cell_type": "code",
      "execution_count": null,
      "metadata": {
        "colab": {
          "base_uri": "https://localhost:8080/"
        },
        "id": "kIkV1TqHO4NJ",
        "outputId": "b6ed4324-f75f-4d4b-f6f1-b3fa463989c0"
      },
      "outputs": [
        {
          "name": "stdout",
          "output_type": "stream",
          "text": [
            "Time taken using Python lists: 0.153228 seconds\n",
            "Time taken using NumPy arrays: 0.001620 seconds\n",
            "Time difference: (0.153228 - 0.001620) = 0.151608 seconds\n"
          ]
        }
      ],
      "source": [
        "import time\n",
        "import numpy as np\n",
        "\n",
        "size = 1_000_000\n",
        "list1 = [i for i in range(size)]\n",
        "list2 = [i for i in range(size)]\n",
        "\n",
        "start_time_list = time.time()\n",
        "dot_product_list = sum(list1[i] * list2[i] for i in range(size))\n",
        "end_time_list = time.time()\n",
        "time_list = end_time_list - start_time_list\n",
        "print(f\"Time taken using Python lists: {time_list:.6f} seconds\")\n",
        "\n",
        "array1 = np.arange(size)\n",
        "array2 = np.arange(size)\n",
        "\n",
        "start_time_numpy = time.time()\n",
        "dot_product_numpy = np.dot(array1, array2)\n",
        "end_time_numpy = time.time()\n",
        "time_numpy = end_time_numpy - start_time_numpy\n",
        "print(f\"Time taken using NumPy arrays: {time_numpy:.6f} seconds\")\n",
        "\n",
        "difference = time_list - time_numpy\n",
        "print(f\"Time difference: ({time_list:.6f} - {time_numpy:.6f}) = {difference:.6f} seconds\")"
      ]
    },
    {
      "cell_type": "markdown",
      "metadata": {
        "id": "ShxAFA0CP5Nw"
      },
      "source": [
        "4. Matrix Multiplication\n",
        "\n",
        "• Using Python lists, perform matrix multiplication of two matrices of size 1000x1000. Measure\n",
        "and print the time taken for this operation.\n",
        "\n",
        "• Using NumPy arrays, perform matrix multiplication of two matrices of size 1000x1000. Mea-\n",
        "sure and print the time taken for this operation."
      ]
    },
    {
      "cell_type": "code",
      "execution_count": 98,
      "metadata": {
        "colab": {
          "base_uri": "https://localhost:8080/"
        },
        "id": "zSKuRfEtP8OW",
        "outputId": "4b39aebb-faef-40f4-cef4-29d08f76daa0"
      },
      "outputs": [
        {
          "output_type": "stream",
          "name": "stdout",
          "text": [
            "Time taken using Python lists: 247.276072 seconds\n",
            "Time taken using NumPy arrays: 1.553830 seconds\n",
            "Time difference: (247.276072 - 1.553830) = 245.722242 seconds\n"
          ]
        }
      ],
      "source": [
        "import time\n",
        "import numpy as np\n",
        "\n",
        "size = 1000\n",
        "matrix1 = [[i for i in range(size)] for _ in range(size)]\n",
        "matrix2 = [[i for i in range(size)] for _ in range(size)]\n",
        "\n",
        "start_time_list = time.time()\n",
        "result_list = [[sum(matrix1[i][k] * matrix2[k][j] for k in range(size)) for j in range(size)] for i in range(size)]\n",
        "end_time_list = time.time()\n",
        "time_list = end_time_list - start_time_list\n",
        "print(f\"Time taken using Python lists: {time_list:.6f} seconds\")\n",
        "\n",
        "array1 = np.arange(size * size).reshape(size, size)\n",
        "array2 = np.arange(size * size).reshape(size, size)\n",
        "\n",
        "start_time_numpy = time.time()\n",
        "result_array = np.dot(array1, array2)\n",
        "end_time_numpy = time.time()\n",
        "time_numpy = end_time_numpy - start_time_numpy\n",
        "print(f\"Time taken using NumPy arrays: {time_numpy:.6f} seconds\")\n",
        "\n",
        "difference = time_list - time_numpy\n",
        "print(f\"Time difference: ({time_list:.6f} - {time_numpy:.6f}) = {difference:.6f} seconds\")"
      ]
    }
  ],
  "metadata": {
    "colab": {
      "provenance": []
    },
    "kernelspec": {
      "display_name": "Python 3",
      "name": "python3"
    },
    "language_info": {
      "name": "python"
    }
  },
  "nbformat": 4,
  "nbformat_minor": 0
}