{
  "nbformat": 4,
  "nbformat_minor": 0,
  "metadata": {
    "colab": {
      "provenance": []
    },
    "kernelspec": {
      "name": "python3",
      "display_name": "Python 3"
    },
    "language_info": {
      "name": "python"
    }
  },
  "cells": [
    {
      "cell_type": "markdown",
      "source": [
        "# Problem - 1: Perform a classification task with knn from scratch."
      ],
      "metadata": {
        "id": "0M1Z1bWo5QNt"
      }
    },
    {
      "cell_type": "markdown",
      "source": [
        "**1. Load the Dataset:**\n",
        "\n",
        "• Read the dataset into a pandas DataFrame.\n",
        "\n",
        "• Display the first few rows and perform exploratory data analysis (EDA) to understand the dataset\n",
        "\n",
        "(e.g., check data types, missing values, summary statistics)."
      ],
      "metadata": {
        "id": "1H3ISkdU5VC_"
      }
    },
    {
      "cell_type": "code",
      "execution_count": 3,
      "metadata": {
        "colab": {
          "base_uri": "https://localhost:8080/"
        },
        "id": "3aNs32kc3lg3",
        "outputId": "5194b641-f0d5-4fc3-9abf-4b6051fa5055"
      },
      "outputs": [
        {
          "output_type": "stream",
          "name": "stdout",
          "text": [
            "First few rows of the dataset:\n",
            "    Pregnancies  Glucose  BloodPressure  SkinThickness  Insulin   BMI  \\\n",
            "0            6      148             72             35        0  33.6   \n",
            "1            1       85             66             29        0  26.6   \n",
            "2            8      183             64              0        0  23.3   \n",
            "3            1       89             66             23       94  28.1   \n",
            "4            0      137             40             35      168  43.1   \n",
            "\n",
            "   DiabetesPedigreeFunction  Age  Outcome  \n",
            "0                     0.627   50        1  \n",
            "1                     0.351   31        0  \n",
            "2                     0.672   32        1  \n",
            "3                     0.167   21        0  \n",
            "4                     2.288   33        1  \n"
          ]
        }
      ],
      "source": [
        "import pandas as pd\n",
        "import numpy as np\n",
        "# Load the Titanic dataset\n",
        "data = pd.read_csv('/content/drive/MyDrive/Concepts of AI Colab/W3 Datasets/diabetes.csv')\n",
        "df = pd.DataFrame(data)\n",
        "# Display the first few rows of the dataset\n",
        "print(\"First few rows of the dataset:\\n\", df.head())"
      ]
    },
    {
      "cell_type": "markdown",
      "source": [
        "**2. Handle Missing Data:**\n",
        "\n",
        "• Handle any missing values appropriately, either by dropping or imputing them based on the data."
      ],
      "metadata": {
        "id": "2fUC57GO5hFL"
      }
    },
    {
      "cell_type": "code",
      "source": [
        "# Check for missing values\n",
        "missing_info = data.isnull().sum() / len(data) * 100\n",
        "# Handle missing values\n",
        "for column in data.columns:\n",
        "  if missing_info[column] > 10: # If more than 10% missing\n",
        "    data[column].fillna(data[column].mean(), inplace=True)\n",
        "  else: # If less than 10% missing\n",
        "    data.dropna(subset=[column], inplace=True)"
      ],
      "metadata": {
        "id": "rlrQfd605ksg"
      },
      "execution_count": 4,
      "outputs": []
    },
    {
      "cell_type": "markdown",
      "source": [
        "**3. Feature Engineering:**\n",
        "\n",
        "• Separate the feature matrix (X) and target variable (y).\n",
        "\n",
        "• Perform a train - test split from scratch using a 70% − 30% ratio."
      ],
      "metadata": {
        "id": "7G-W_LjQ7mAo"
      }
    },
    {
      "cell_type": "code",
      "source": [
        "# Separate features (X) and target (y)\n",
        "X = data.drop(columns=['Outcome']).values # Convert features to NumPy array\n",
        "y = data['Outcome'].values # Convert target to NumPy array\n",
        "# Define a function for train-test split from scratch\n",
        "def train_test_split_scratch(X, y, test_size=0.3, random_seed=42):\n",
        "  \"\"\"\n",
        "  Splits dataset into train and test sets.\n",
        "  Arguments:\n",
        "  X : np.ndarray\n",
        "    Feature matrix.\n",
        "  y : np.ndarray\n",
        "    Target array.\n",
        "  test_size : float\n",
        "    Proportion of the dataset to include in the test split (0 < test_size < 1).\n",
        "  random_seed : int\n",
        "    Seed for reproducibility.\n",
        "  Returns:\n",
        "  X_train, X_test, y_train, y_test : np.ndarray\n",
        "    Training and testing splits of features and target.\n",
        "  \"\"\"\n",
        "\n",
        "  np.random.seed(random_seed)\n",
        "  indices = np.arange(X.shape[0])\n",
        "  np.random.shuffle(indices) # Shuffle the indices\n",
        "  test_split_size = int(len(X) * test_size)\n",
        "  test_indices = indices[:test_split_size]\n",
        "  train_indices = indices[test_split_size:]\n",
        "  X_train, X_test = X[train_indices], X[test_indices]\n",
        "  y_train, y_test = y[train_indices], y[test_indices]\n",
        "  return X_train, X_test, y_train, y_test\n",
        "# Perform the train-test split\n",
        "X_train, X_test, y_train, y_test = train_test_split_scratch(X, y, test_size=0.3)\n",
        "# Output shapes to verify\n",
        "print(\"Shape of X_train:\", X_train.shape)\n",
        "print(\"Shape of X_test:\", X_test.shape)\n",
        "print(\"Shape of y_train:\", y_train.shape)\n",
        "print(\"Shape of y_test:\", y_test.shape)"
      ],
      "metadata": {
        "colab": {
          "base_uri": "https://localhost:8080/"
        },
        "id": "ob-ofIkY6HNq",
        "outputId": "13e437ed-3ec9-47d1-a1f8-7d66e3dc174d"
      },
      "execution_count": 5,
      "outputs": [
        {
          "output_type": "stream",
          "name": "stdout",
          "text": [
            "Shape of X_train: (538, 8)\n",
            "Shape of X_test: (230, 8)\n",
            "Shape of y_train: (538,)\n",
            "Shape of y_test: (230,)\n"
          ]
        }
      ]
    },
    {
      "cell_type": "markdown",
      "source": [
        "**4. Implement KNN:**\n",
        "\n",
        "• Build the KNN algorithm from scratch (no libraries like sickit-learn for KNN).\n",
        "\n",
        "• Compute distances using Euclidean distance.\n",
        "\n",
        "• Write functions for:\n",
        "\n",
        "– Predicting the class for a single query.\n",
        "\n",
        "– Predicting classes for all test samples.\n",
        "\n",
        "• Evaluate the performance using accuracy."
      ],
      "metadata": {
        "id": "mmgdK6dS7gQg"
      }
    },
    {
      "cell_type": "code",
      "source": [
        "def euclidean_distance(point1, point2):\n",
        "  \"\"\"\n",
        "  Calculate the Euclidean distance between two points in n-dimensional space.\n",
        "  Arguments:\n",
        "  point1 : np.ndarray\n",
        "    The first point as a numpy array.\n",
        "  point2 : np.ndarray\n",
        "    The second point as a numpy array.\n",
        "  Returns:\n",
        "  float\n",
        "    The Euclidean distance between the two points.\n",
        "  Raises:\n",
        "  ValueError: If the input points do not have the same dimensionality.\n",
        "  \"\"\"\n",
        "  # Check if the points are of the same dimension\n",
        "  if point1.shape != point2.shape:\n",
        "    raise ValueError(\"Points must have the same dimensions to calculate Euclidean distance.\")\n",
        "  # Calculate the Euclidean distance\n",
        "  distance = np.sqrt(np.sum((point1 - point2) ** 2))\n",
        "  return distance"
      ],
      "metadata": {
        "id": "16Akz8s9_aJU"
      },
      "execution_count": 6,
      "outputs": []
    },
    {
      "cell_type": "code",
      "source": [
        "# Test case for the function\n",
        "try:\n",
        "  # Define two points\n",
        "  point1 = np.array([3, 4])\n",
        "  point2 = np.array([0, 0])\n",
        "  # Calculate the distance\n",
        "  result = euclidean_distance(point1, point2)\n",
        "  # Check if the result matches the expected value (e.g., sqrt(3^2 + 4^2) = 5)\n",
        "  expected_result = 5.0\n",
        "  assert np.isclose(result, expected_result), f\"Expected {expected_result}, but got {result}\"\n",
        "  print(\"Test passed successfully!\")\n",
        "except ValueError as ve:\n",
        "  print(f\"ValueError: {ve}\")\n",
        "except AssertionError as ae:\n",
        "  print(f\"AssertionError: {ae}\")\n",
        "except Exception as e:\n",
        "  print(f\"An unexpected error occurred: {e}\")"
      ],
      "metadata": {
        "colab": {
          "base_uri": "https://localhost:8080/"
        },
        "id": "pNRBKnQpSWL2",
        "outputId": "306ce5e9-43c6-43de-ad46-f26fad278d8c"
      },
      "execution_count": 7,
      "outputs": [
        {
          "output_type": "stream",
          "name": "stdout",
          "text": [
            "Test passed successfully!\n"
          ]
        }
      ]
    },
    {
      "cell_type": "code",
      "source": [
        "# Function for KNN prediction for a single query\n",
        "def knn_predict_single(query, X_train, y_train, k=3):\n",
        "  \"\"\"\n",
        "  Predict the class label for a single query using the K-nearest neighbors algorithm.\n",
        "  Arguments:\n",
        "  query : np.ndarray\n",
        "  The query point for which the prediction is to be made.\n",
        "  X_train : np.ndarray\n",
        "  The training feature matrix.\n",
        "  y_train : np.ndarray\n",
        "  The training labels.\n",
        "  k : int, optional\n",
        "  The number of nearest neighbors to consider (default is 3).\n",
        "  Returns:\n",
        "  int\n",
        "  The predicted class label for the query.\n",
        "  \"\"\"\n",
        "  distances = [euclidean_distance(query, x) for x in X_train]\n",
        "  sorted_indices = np.argsort(distances)\n",
        "  nearest_indices = sorted_indices[:k]\n",
        "  nearest_labels = y_train[nearest_indices]\n",
        "  prediction = np.bincount(nearest_labels).argmax()\n",
        "  return prediction"
      ],
      "metadata": {
        "id": "pAkyn05ESUJK"
      },
      "execution_count": 8,
      "outputs": []
    },
    {
      "cell_type": "code",
      "source": [
        "# Function to test KNN for all test samples\n",
        "def knn_predict(X_test, X_train, y_train, k=3):\n",
        "  \"\"\"\n",
        "  Predict the class labels for all test samples using the K-nearest neighbors algorithm.\n",
        "  Arguments:\n",
        "  X_test : np.ndarray\n",
        "  The test feature matrix.\n",
        "  X_train : np.ndarray\n",
        "  The training feature matrix.\n",
        "  y_train : np.ndarray\n",
        "  The training labels.\n",
        "  k : int, optional\n",
        "  The number of nearest neighbors to consider (default is 3).\n",
        "  Returns:\n",
        "  np.ndarray\n",
        "  An array of predicted class labels for the test samples.\n",
        "  \"\"\"\n",
        "  predictions = [knn_predict_single(x, X_train, y_train, k) for x in X_test]\n",
        "  return np.array(predictions)"
      ],
      "metadata": {
        "id": "0jsQ-XsaSY6h"
      },
      "execution_count": 9,
      "outputs": []
    },
    {
      "cell_type": "code",
      "source": [
        "# Test case for KNN on the Titanic dataset\n",
        "# Assume X_train, X_test, y_train, and y_test have been prepared using the code above\n",
        "try:\n",
        "  # Define the test set for the test case\n",
        "  X_test_sample = X_test[:5] # Taking a small subset for testing\n",
        "  y_test_sample = y_test[:5] # Corresponding labels for the subset\n",
        "  # Make predictions\n",
        "  predictions = knn_predict(X_test_sample, X_train, y_train, k=3)\n",
        "  # Print test results\n",
        "  print(\"Predictions:\", predictions)\n",
        "  print(\"Actual labels:\", y_test_sample)\n",
        "  # Check if predictions match expected format\n",
        "  assert predictions.shape == y_test_sample.shape, \"The shape of predictions does not match the shape of the actual labels.\"\n",
        "  print(\"Test case passed successfully!\")\n",
        "except AssertionError as ae:\n",
        "  print(f\"AssertionError: {ae}\")\n",
        "except Exception as e:\n",
        "  print(f\"An unexpected error occurred: {e}\")"
      ],
      "metadata": {
        "colab": {
          "base_uri": "https://localhost:8080/"
        },
        "id": "3NFr7QW0SbbD",
        "outputId": "b24203c2-575d-40a8-d788-5f15f539ffb6"
      },
      "execution_count": 10,
      "outputs": [
        {
          "output_type": "stream",
          "name": "stdout",
          "text": [
            "Predictions: [0 1 0 1 1]\n",
            "Actual labels: [0 0 0 0 0]\n",
            "Test case passed successfully!\n"
          ]
        }
      ]
    },
    {
      "cell_type": "markdown",
      "source": [
        "# To - Do Exercise:"
      ],
      "metadata": {
        "id": "4qS6GOPtTLU3"
      }
    },
    {
      "cell_type": "markdown",
      "source": [
        "For the provided dataset:\n",
        "\n",
        "• diabetes.csv\n",
        "\n",
        "Complete the following Problems."
      ],
      "metadata": {
        "id": "lG-J18zbTQP4"
      }
    },
    {
      "cell_type": "markdown",
      "source": [
        "**Problem - 1: Perform a classification task with knn from scratch.**\n",
        "1. Load the Dataset:\n",
        "\n",
        "• Read the dataset into a pandas DataFrame.\n",
        "\n",
        "• Display the first few rows and perform exploratory data analysis (EDA) to understand the dataset\n",
        "(e.g., check data types, missing values, summary statistics)."
      ],
      "metadata": {
        "id": "Z2ucekpkTWwf"
      }
    },
    {
      "cell_type": "code",
      "source": [
        "diabetes_df = pd.read_csv('/content/drive/MyDrive/Concepts of AI Colab/W3 Datasets/diabetes.csv')\n",
        "\n",
        "print(\"First few rows of the dataframe:\")\n",
        "print(diabetes_df.head())\n",
        "\n",
        "print(\"\\nThe data types of the dataframe:\")\n",
        "print(diabetes_df.dtypes)\n",
        "\n",
        "print(\"\\nThe summary statistics of the dataframe:\")\n",
        "print(diabetes_df.describe())\n",
        "\n",
        "print(\"\\nThe missing values of the dataframe:\")\n",
        "print(diabetes_df.isnull().sum())"
      ],
      "metadata": {
        "colab": {
          "base_uri": "https://localhost:8080/"
        },
        "id": "DEb9muUXTdIR",
        "outputId": "da254e12-47a7-400f-98e2-b9a8e349cbf5"
      },
      "execution_count": 12,
      "outputs": [
        {
          "output_type": "stream",
          "name": "stdout",
          "text": [
            "First few rows of the dataframe:\n",
            "   Pregnancies  Glucose  BloodPressure  SkinThickness  Insulin   BMI  \\\n",
            "0            6      148             72             35        0  33.6   \n",
            "1            1       85             66             29        0  26.6   \n",
            "2            8      183             64              0        0  23.3   \n",
            "3            1       89             66             23       94  28.1   \n",
            "4            0      137             40             35      168  43.1   \n",
            "\n",
            "   DiabetesPedigreeFunction  Age  Outcome  \n",
            "0                     0.627   50        1  \n",
            "1                     0.351   31        0  \n",
            "2                     0.672   32        1  \n",
            "3                     0.167   21        0  \n",
            "4                     2.288   33        1  \n",
            "\n",
            "The data types of the dataframe:\n",
            "Pregnancies                   int64\n",
            "Glucose                       int64\n",
            "BloodPressure                 int64\n",
            "SkinThickness                 int64\n",
            "Insulin                       int64\n",
            "BMI                         float64\n",
            "DiabetesPedigreeFunction    float64\n",
            "Age                           int64\n",
            "Outcome                       int64\n",
            "dtype: object\n",
            "\n",
            "The summary statistics of the dataframe:\n",
            "       Pregnancies     Glucose  BloodPressure  SkinThickness     Insulin  \\\n",
            "count   768.000000  768.000000     768.000000     768.000000  768.000000   \n",
            "mean      3.845052  120.894531      69.105469      20.536458   79.799479   \n",
            "std       3.369578   31.972618      19.355807      15.952218  115.244002   \n",
            "min       0.000000    0.000000       0.000000       0.000000    0.000000   \n",
            "25%       1.000000   99.000000      62.000000       0.000000    0.000000   \n",
            "50%       3.000000  117.000000      72.000000      23.000000   30.500000   \n",
            "75%       6.000000  140.250000      80.000000      32.000000  127.250000   \n",
            "max      17.000000  199.000000     122.000000      99.000000  846.000000   \n",
            "\n",
            "              BMI  DiabetesPedigreeFunction         Age     Outcome  \n",
            "count  768.000000                768.000000  768.000000  768.000000  \n",
            "mean    31.992578                  0.471876   33.240885    0.348958  \n",
            "std      7.884160                  0.331329   11.760232    0.476951  \n",
            "min      0.000000                  0.078000   21.000000    0.000000  \n",
            "25%     27.300000                  0.243750   24.000000    0.000000  \n",
            "50%     32.000000                  0.372500   29.000000    0.000000  \n",
            "75%     36.600000                  0.626250   41.000000    1.000000  \n",
            "max     67.100000                  2.420000   81.000000    1.000000  \n",
            "\n",
            "The missing values of the dataframe:\n",
            "Pregnancies                 0\n",
            "Glucose                     0\n",
            "BloodPressure               0\n",
            "SkinThickness               0\n",
            "Insulin                     0\n",
            "BMI                         0\n",
            "DiabetesPedigreeFunction    0\n",
            "Age                         0\n",
            "Outcome                     0\n",
            "dtype: int64\n"
          ]
        }
      ]
    },
    {
      "cell_type": "markdown",
      "source": [
        "**2. Handle Missing Data:**\n",
        "\n",
        "• Handle any missing values appropriately, either by dropping or imputing them based on the data."
      ],
      "metadata": {
        "id": "M0C8cbM_T3Py"
      }
    },
    {
      "cell_type": "code",
      "source": [
        "missing_info = diabetes_df.isnull().sum() / len(diabetes_df) * 100\n",
        "# Handle missing values\n",
        "for column in diabetes_df.columns:\n",
        "  if missing_info[column] > 10: # If more than 10% missing\n",
        "    diabetes_df[column].fillna(diabetes_df[column].mean(), inplace=True)\n",
        "  else: # If less than 10% missing\n",
        "    diabetes_df.dropna(subset=[column], inplace=True)\n",
        "\n",
        "print(\"\\nMissing values after processing:\\n\", diabetes_df.isnull().sum())\n"
      ],
      "metadata": {
        "colab": {
          "base_uri": "https://localhost:8080/"
        },
        "id": "7npoQfK-T5uv",
        "outputId": "2e4ce9e0-f2ff-4f84-e942-fd5b30e48002"
      },
      "execution_count": 13,
      "outputs": [
        {
          "output_type": "stream",
          "name": "stdout",
          "text": [
            "\n",
            "Missing values after processing:\n",
            " Pregnancies                 0\n",
            "Glucose                     0\n",
            "BloodPressure               0\n",
            "SkinThickness               0\n",
            "Insulin                     0\n",
            "BMI                         0\n",
            "DiabetesPedigreeFunction    0\n",
            "Age                         0\n",
            "Outcome                     0\n",
            "dtype: int64\n"
          ]
        }
      ]
    },
    {
      "cell_type": "markdown",
      "source": [
        "**3. Feature Engineering:**\n",
        "\n",
        "• Separate the feature matrix (X) and target variable (y)."
      ],
      "metadata": {
        "id": "HKUEjSvXT_to"
      }
    },
    {
      "cell_type": "code",
      "source": [
        "X = diabetes_df.drop(columns=['Outcome']).values\n",
        "y = diabetes_df['Outcome'].values"
      ],
      "metadata": {
        "id": "rHoGwJowUCuh"
      },
      "execution_count": 14,
      "outputs": []
    },
    {
      "cell_type": "markdown",
      "source": [
        "• Perform a train - test split from scratch using a 70% − 30% ratio."
      ],
      "metadata": {
        "id": "F0hppI_kUHOh"
      }
    },
    {
      "cell_type": "code",
      "source": [
        "def train_test_split_scratch(X, y, test_size=0.3, random_seed=42):\n",
        "  np.random.seed(random_seed)\n",
        "  indices = np.arange(X.shape[0])\n",
        "  np.random.shuffle(indices) # Shuffle the indices\n",
        "  test_split_size = int(len(X) * test_size)\n",
        "  test_indices = indices[:test_split_size]\n",
        "  train_indices = indices[test_split_size:]\n",
        "  X_train, X_test = X[train_indices], X[test_indices]\n",
        "  y_train, y_test = y[train_indices], y[test_indices]\n",
        "\n",
        "  X_train = X_train.astype(np.int64)\n",
        "  X_test = X_test.astype(np.int64)\n",
        "  y_train = y_train.astype(np.int64)\n",
        "  y_test = y_test.astype(np.int64)\n",
        "  return X_train, X_test, y_train, y_test\n",
        "\n",
        "# Perform the train-test split\n",
        "X_train, X_test, y_train, y_test = train_test_split_scratch(X, y, test_size=0.3)\n",
        "# Output shapes to verify\n",
        "print(\"Shape of X_train:\", X_train.shape)\n",
        "print(\"Shape of X_test:\", X_test.shape)\n",
        "print(\"Shape of y_train:\", y_train.shape)\n",
        "print(\"Shape of y_test:\", y_test.shape)\n",
        "\n",
        "# Additional checks to ensure correct data types after the split\n",
        "print(\"\\nData Types after Split:\")\n",
        "print(f\"X_train data type: {X_train.dtype}\")  # Should be float64 or int64 depending on features\n",
        "print(f\"X_test data type: {X_test.dtype}\")    # Should be float64 or int64 depending on features\n",
        "print(f\"y_train data type: {y_train.dtype}\")  # Should be int64 (Outcome)\n",
        "print(f\"y_test data type: {y_test.dtype}\")    # Should be int64 (Outcome)"
      ],
      "metadata": {
        "colab": {
          "base_uri": "https://localhost:8080/"
        },
        "id": "qRkAk4OoUEuv",
        "outputId": "ae9acff2-107a-4956-ef0a-fc653234e969"
      },
      "execution_count": 15,
      "outputs": [
        {
          "output_type": "stream",
          "name": "stdout",
          "text": [
            "Shape of X_train: (538, 8)\n",
            "Shape of X_test: (230, 8)\n",
            "Shape of y_train: (538,)\n",
            "Shape of y_test: (230,)\n",
            "\n",
            "Data Types after Split:\n",
            "X_train data type: int64\n",
            "X_test data type: int64\n",
            "y_train data type: int64\n",
            "y_test data type: int64\n"
          ]
        }
      ]
    },
    {
      "cell_type": "markdown",
      "source": [
        "4. Implement KNN:\n",
        "\n",
        "• Build the KNN algorithm from scratch (no libraries like sickit-learn for KNN).\n",
        "\n",
        "• Compute distances using Euclidean distance.\n",
        "\n",
        "• Write functions for:\n",
        "\n",
        "– Predicting the class for a single query.\n",
        "\n",
        "– Predicting classes for all test samples.\n"
      ],
      "metadata": {
        "id": "03NOmfMvULlh"
      }
    },
    {
      "cell_type": "code",
      "source": [
        "def euclidean_distance(point1, point2):\n",
        "  distance = np.sqrt(np.sum((point1 - point2) ** 2))\n",
        "  return distance\n",
        "\n",
        "\n",
        "def knn_predict_single(query, X_train, y_train, k=3):\n",
        "  distances = [euclidean_distance(query, x) for x in X_train]\n",
        "  sorted_indices = np.argsort(distances)\n",
        "  nearest_indices = sorted_indices[:k]\n",
        "  nearest_labels = y_train[nearest_indices]\n",
        "  prediction = np.bincount(nearest_labels).argmax()\n",
        "  return prediction\n",
        "\n",
        "def knn_predict(X_test, X_train, y_train, k=3):\n",
        "  predictions = [knn_predict_single(x, X_train, y_train, k) for x in X_test]\n",
        "  return np.array(predictions)\n",
        "\n",
        "try:\n",
        "  # Define the test set for the test case\n",
        "  X_test_sample = X_test[:5] # Taking a small subset for testing\n",
        "  y_test_sample = y_test[:5] # Corresponding labels for the subset\n",
        "  # Make predictions\n",
        "  predictions = knn_predict(X_test_sample, X_train, y_train, k=3)\n",
        "  # Print test results\n",
        "  print(\"Predictions:\", predictions)\n",
        "  print(\"Actual labels:\", y_test_sample)\n",
        "  # Check if predictions match expected format\n",
        "  assert predictions.shape == y_test_sample.shape, \"The shape of predictions does not match the shape of the actual labels.\"\n",
        "  print(\"Test case passed successfully!\")\n",
        "except AssertionError as ae:\n",
        "  print(f\"AssertionError: {ae}\")\n",
        "except Exception as e:\n",
        "  print(f\"An unexpected error occurred: {e}\")"
      ],
      "metadata": {
        "colab": {
          "base_uri": "https://localhost:8080/"
        },
        "id": "AUjbwNnbUYly",
        "outputId": "8422d208-e93b-4df8-931c-3cbc958e8134"
      },
      "execution_count": 16,
      "outputs": [
        {
          "output_type": "stream",
          "name": "stdout",
          "text": [
            "Predictions: [0 1 0 1 1]\n",
            "Actual labels: [0 0 0 0 0]\n",
            "Test case passed successfully!\n"
          ]
        }
      ]
    },
    {
      "cell_type": "markdown",
      "source": [
        "• Evaluate the performance using accuracy."
      ],
      "metadata": {
        "id": "n-DYSE_bUTw9"
      }
    },
    {
      "cell_type": "code",
      "source": [
        "def compute_accuracy(y_true, y_pred):\n",
        "    correct_predictions = np.sum(y_true == y_pred)\n",
        "    total_samples = len(y_true)\n",
        "    accuracy = correct_predictions / total_samples\n",
        "    return accuracy\n",
        "\n",
        "try:\n",
        "  y_pred = knn_predict(X_test, X_train, y_train, k=3)\n",
        "  accuracy = compute_accuracy(y_test, y_pred)\n",
        "except Exception as e:\n",
        "  print(f\"An unexpected error occurred: {e}\")\n",
        "\n",
        "print(\"Accuracy:\", accuracy)"
      ],
      "metadata": {
        "colab": {
          "base_uri": "https://localhost:8080/"
        },
        "id": "4n8rIHhRUd82",
        "outputId": "f62ba3ba-1075-453d-821e-b99b4bb3df45"
      },
      "execution_count": 17,
      "outputs": [
        {
          "output_type": "stream",
          "name": "stdout",
          "text": [
            "Accuracy: 0.6695652173913044\n"
          ]
        }
      ]
    }
  ]
}